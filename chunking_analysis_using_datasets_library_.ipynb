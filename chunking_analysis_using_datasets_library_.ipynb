{
  "cells": [
    {
      "cell_type": "code",
      "execution_count": null,
      "metadata": {
        "colab": {
          "base_uri": "https://localhost:8080/"
        },
        "id": "-mUdVxBjneKv",
        "outputId": "6db0c15e-76a7-4405-8a25-a62dac2d5fdf"
      },
      "outputs": [
        {
          "output_type": "stream",
          "name": "stdout",
          "text": [
            "Requirement already satisfied: nltk in /usr/local/lib/python3.10/dist-packages (3.9.1)\n",
            "Requirement already satisfied: click in /usr/local/lib/python3.10/dist-packages (from nltk) (8.1.7)\n",
            "Requirement already satisfied: joblib in /usr/local/lib/python3.10/dist-packages (from nltk) (1.4.2)\n",
            "Requirement already satisfied: regex>=2021.8.3 in /usr/local/lib/python3.10/dist-packages (from nltk) (2024.11.6)\n",
            "Requirement already satisfied: tqdm in /usr/local/lib/python3.10/dist-packages (from nltk) (4.67.1)\n"
          ]
        },
        {
          "output_type": "stream",
          "name": "stderr",
          "text": [
            "[nltk_data] Downloading package punkt_tab to /root/nltk_data...\n",
            "[nltk_data]   Unzipping tokenizers/punkt_tab.zip.\n",
            "[nltk_data] Downloading package punkt to /root/nltk_data...\n",
            "[nltk_data]   Unzipping tokenizers/punkt.zip.\n"
          ]
        },
        {
          "output_type": "stream",
          "name": "stdout",
          "text": [
            "Requirement already satisfied: datasets in /usr/local/lib/python3.10/dist-packages (3.2.0)\n",
            "Requirement already satisfied: filelock in /usr/local/lib/python3.10/dist-packages (from datasets) (3.16.1)\n",
            "Requirement already satisfied: numpy>=1.17 in /usr/local/lib/python3.10/dist-packages (from datasets) (1.26.4)\n",
            "Requirement already satisfied: pyarrow>=15.0.0 in /usr/local/lib/python3.10/dist-packages (from datasets) (17.0.0)\n",
            "Requirement already satisfied: dill<0.3.9,>=0.3.0 in /usr/local/lib/python3.10/dist-packages (from datasets) (0.3.8)\n",
            "Requirement already satisfied: pandas in /usr/local/lib/python3.10/dist-packages (from datasets) (2.2.2)\n",
            "Requirement already satisfied: requests>=2.32.2 in /usr/local/lib/python3.10/dist-packages (from datasets) (2.32.3)\n",
            "Requirement already satisfied: tqdm>=4.66.3 in /usr/local/lib/python3.10/dist-packages (from datasets) (4.67.1)\n",
            "Requirement already satisfied: xxhash in /usr/local/lib/python3.10/dist-packages (from datasets) (3.5.0)\n",
            "Requirement already satisfied: multiprocess<0.70.17 in /usr/local/lib/python3.10/dist-packages (from datasets) (0.70.16)\n",
            "Requirement already satisfied: fsspec<=2024.9.0,>=2023.1.0 in /usr/local/lib/python3.10/dist-packages (from fsspec[http]<=2024.9.0,>=2023.1.0->datasets) (2024.9.0)\n",
            "Requirement already satisfied: aiohttp in /usr/local/lib/python3.10/dist-packages (from datasets) (3.11.10)\n",
            "Requirement already satisfied: huggingface-hub>=0.23.0 in /usr/local/lib/python3.10/dist-packages (from datasets) (0.27.0)\n",
            "Requirement already satisfied: packaging in /usr/local/lib/python3.10/dist-packages (from datasets) (24.2)\n",
            "Requirement already satisfied: pyyaml>=5.1 in /usr/local/lib/python3.10/dist-packages (from datasets) (6.0.2)\n",
            "Requirement already satisfied: aiohappyeyeballs>=2.3.0 in /usr/local/lib/python3.10/dist-packages (from aiohttp->datasets) (2.4.4)\n",
            "Requirement already satisfied: aiosignal>=1.1.2 in /usr/local/lib/python3.10/dist-packages (from aiohttp->datasets) (1.3.2)\n",
            "Requirement already satisfied: async-timeout<6.0,>=4.0 in /usr/local/lib/python3.10/dist-packages (from aiohttp->datasets) (4.0.3)\n",
            "Requirement already satisfied: attrs>=17.3.0 in /usr/local/lib/python3.10/dist-packages (from aiohttp->datasets) (24.3.0)\n",
            "Requirement already satisfied: frozenlist>=1.1.1 in /usr/local/lib/python3.10/dist-packages (from aiohttp->datasets) (1.5.0)\n",
            "Requirement already satisfied: multidict<7.0,>=4.5 in /usr/local/lib/python3.10/dist-packages (from aiohttp->datasets) (6.1.0)\n",
            "Requirement already satisfied: propcache>=0.2.0 in /usr/local/lib/python3.10/dist-packages (from aiohttp->datasets) (0.2.1)\n",
            "Requirement already satisfied: yarl<2.0,>=1.17.0 in /usr/local/lib/python3.10/dist-packages (from aiohttp->datasets) (1.18.3)\n",
            "Requirement already satisfied: typing-extensions>=3.7.4.3 in /usr/local/lib/python3.10/dist-packages (from huggingface-hub>=0.23.0->datasets) (4.12.2)\n",
            "Requirement already satisfied: charset-normalizer<4,>=2 in /usr/local/lib/python3.10/dist-packages (from requests>=2.32.2->datasets) (3.4.0)\n",
            "Requirement already satisfied: idna<4,>=2.5 in /usr/local/lib/python3.10/dist-packages (from requests>=2.32.2->datasets) (3.10)\n",
            "Requirement already satisfied: urllib3<3,>=1.21.1 in /usr/local/lib/python3.10/dist-packages (from requests>=2.32.2->datasets) (2.2.3)\n",
            "Requirement already satisfied: certifi>=2017.4.17 in /usr/local/lib/python3.10/dist-packages (from requests>=2.32.2->datasets) (2024.12.14)\n",
            "Requirement already satisfied: python-dateutil>=2.8.2 in /usr/local/lib/python3.10/dist-packages (from pandas->datasets) (2.8.2)\n",
            "Requirement already satisfied: pytz>=2020.1 in /usr/local/lib/python3.10/dist-packages (from pandas->datasets) (2024.2)\n",
            "Requirement already satisfied: tzdata>=2022.7 in /usr/local/lib/python3.10/dist-packages (from pandas->datasets) (2024.2)\n",
            "Requirement already satisfied: six>=1.5 in /usr/local/lib/python3.10/dist-packages (from python-dateutil>=2.8.2->pandas->datasets) (1.17.0)\n"
          ]
        }
      ],
      "source": [
        "!pip install nltk\n",
        "import nltk\n",
        "\n",
        "nltk.download('punkt_tab')\n",
        "nltk.download('punkt')\n",
        "\n",
        "from IPython import get_ipython\n",
        "from IPython.display import display\n",
        "!pip install datasets"
      ]
    },
    {
      "cell_type": "code",
      "execution_count": null,
      "metadata": {
        "colab": {
          "base_uri": "https://localhost:8080/",
          "height": 270,
          "referenced_widgets": [
            "655ce3a2cb474330bd5c3c9d4ea10e11",
            "eb5f11ef7d504dd9b3bf155aff055a1d",
            "8186c69362e1444cb6422c4d0546ae27",
            "6e4832a6b56e4cae91324b36d53f1911",
            "bf4ccd05b749418a92ab3cabe96a6599",
            "6a6c0b61269549dba0229f97b1b777f3",
            "337bb951192b4270b6f631b3712de5d7",
            "9838619476e440bea497e73a39c4e171",
            "3129ec93d6c0443fa850f78fe3231c11",
            "881896ff71c34fec998a084b856a401c",
            "8fb623ce13714ad6b0b0db1b554359d0",
            "7f9f85537c3c43a5b841bdf6b204cbc4",
            "9d03743c22684eb299043eaa7c495684",
            "fa29fd2ed8094a58a58825a4027cc893",
            "8180964adb8a43f8bd1734d79487e2f0",
            "0b8ae4eb6145418d873c96b052200255",
            "30b60ceb55d24795a8b8751b8d3bf494",
            "c75def0003ea4418955cdbf0fd9615cd",
            "3b85f6b26b0441a389e51a7b4ef8fd6a",
            "9d7ddc83ded74a9dbf6a40c634a440e8",
            "46971514a0834853815af304f74804ed",
            "8e56d78ec802457c8c097ea786e6f644",
            "ef7f2d28af934e0f9b6f53582f4a6e5d",
            "11c212a6323e4eeab32d7c5fac705729",
            "1b99e1e8fc874c96b18de1302ceee70e",
            "197643e773fc4793b3dd728978f5efd9",
            "5304ec19db714eb3ba8cdc2c211fefb9",
            "c171f3fe17f948978c72bb2f332c80d8",
            "d8bbc9ad1faa4aa4af4bedd48ff70a84",
            "5d3fae5b7b174dee8912ee909e6ec082",
            "8a69e00ff68a4d72b2fdc930307d7a40",
            "4fbd5c00c0ae4c31ba8955a88b0d6e62",
            "e8c6680e22e6418593254947087a44a6",
            "de56c2b45b4c45e1811c26fce656e205",
            "17b0661dad3b46b2991a807bb5da60ab",
            "bff71d63e1f1411bb855139828f3ce23",
            "fe9f534847a14ff2b42ec3b4444b2f7f",
            "61bcf74fe36040e1aab9c1cdb7631cab",
            "3d3ba5fb58134c208d51d2738f474223",
            "2268d88b1ea1406cba761d8190517b45",
            "21ef2819f4a845558ad57ca3bf7126f3",
            "8e866cc004084ad59905858ffc724cf0",
            "f91c288382dd4f3b8f6905db25afb0b1",
            "187631e5e04a4fcfb6287fafbab96cd0",
            "a5c7fac7479a46849a850cad49ecdae4",
            "9acd7189b10741c689be95504a47b2e4",
            "b0bc212bbb4f45aeb537b191d3b44cb6",
            "1edc6bbf555448d5a2d8c94bcdb7a606",
            "96878e165d6e48b6ac71db630d8eac1c",
            "ab2f70a1c8d042a7a1f85bd7340dfd09",
            "978b4470e3374480b9b4417bfb01b7a5",
            "5df33730bf8e4c0dac9629a6367aa754",
            "5fbdc841aa7f456786196aa01e165e57",
            "e90d40d1a27343b88d6d1425f5730813",
            "d53da332ef4342abbee6a367e0c58c95"
          ]
        },
        "id": "JFyB85cxUTdU",
        "outputId": "7f9d9bfe-062b-479e-9e3b-7f38a2d4c0d3"
      },
      "outputs": [
        {
          "output_type": "display_data",
          "data": {
            "text/plain": [
              "README.md:   0%|          | 0.00/3.71k [00:00<?, ?B/s]"
            ],
            "application/vnd.jupyter.widget-view+json": {
              "version_major": 2,
              "version_minor": 0,
              "model_id": "655ce3a2cb474330bd5c3c9d4ea10e11"
            }
          },
          "metadata": {}
        },
        {
          "output_type": "display_data",
          "data": {
            "text/plain": [
              "train-00000-of-00001.parquet:   0%|          | 0.00/162M [00:00<?, ?B/s]"
            ],
            "application/vnd.jupyter.widget-view+json": {
              "version_major": 2,
              "version_minor": 0,
              "model_id": "7f9f85537c3c43a5b841bdf6b204cbc4"
            }
          },
          "metadata": {}
        },
        {
          "output_type": "display_data",
          "data": {
            "text/plain": [
              "test-00000-of-00001.parquet:   0%|          | 0.00/40.5M [00:00<?, ?B/s]"
            ],
            "application/vnd.jupyter.widget-view+json": {
              "version_major": 2,
              "version_minor": 0,
              "model_id": "ef7f2d28af934e0f9b6f53582f4a6e5d"
            }
          },
          "metadata": {}
        },
        {
          "output_type": "display_data",
          "data": {
            "text/plain": [
              "Generating train split:   0%|          | 0/45995 [00:00<?, ? examples/s]"
            ],
            "application/vnd.jupyter.widget-view+json": {
              "version_major": 2,
              "version_minor": 0,
              "model_id": "de56c2b45b4c45e1811c26fce656e205"
            }
          },
          "metadata": {}
        },
        {
          "output_type": "display_data",
          "data": {
            "text/plain": [
              "Generating test split:   0%|          | 0/11499 [00:00<?, ? examples/s]"
            ],
            "application/vnd.jupyter.widget-view+json": {
              "version_major": 2,
              "version_minor": 0,
              "model_id": "a5c7fac7479a46849a850cad49ecdae4"
            }
          },
          "metadata": {}
        },
        {
          "output_type": "stream",
          "name": "stdout",
          "text": [
            "{'title': ['Kekuatan Ikhlas dan Potret Ulama Salaf dalam Keikhlasan', 'Shalat ‘Idain dan Dasar Hukum Pelaksanaannya', '1256. MACAM-MACAM MURTAD', 'Hadirnya wanita di masjid dan keutamaan shalat  Wanita di rumahnya', 'Menyusukan anak'], 'url': ['https://muslim.or.id/78151-kekuatan-ikhlas-dan-potret-ulama-salaf-dalam-keikhlasan.html', 'https://fatwatarjih.or.id/shalat-idain-dan-dasar-hukum-pelaksanaannya/', 'https://www.piss-ktb.com/2012/03/1256-macam-macam-murtad.html', 'https://belajarislam.com/2017/04/hadirnya-wanita-di-masjid-dan-keutamaan-shalat-wanita-di-rumahnya/', 'https://www.laduni.id/alquran/tema/tema-ayat-quran-Menyusukan-anak'], 'content': ['Daftar Isi Allah berfirman, \\u2060 Dan tidaklah mereka diperintahkan melainkan supaya beribadah kepada Allah dengan mengikhlaskan amal (ketaatan) kepada-Nya dalam menjalani agama yang lurus, mendirikan salat, menunaikan zakat. Itulah agama yang lurus. (QS. Al-Bayyinah: 5) Allah juga berfirman, ࣰ Sesungguhnya Kami menurunkan kepadamu Al-Kitab dengan benar. Maka, sembahlah Allah dengan mengikhlaskan agama kepada-Nya. (QS. Az-Zumar: 2) Allah pun berfirman memerintahkan kepada Nabi-Nya, ࣰ Katakanlah, Sesungguhnya Aku diperintahkan untuk beribadah kepada Allah dengan mengikhlaskan agama kepada-Nya semata. (QS. Az-Zumar: 11) Dari Umar bin Khattab radhiyallahu anhu, Rasulullah shallallahu alaihi wasallam bersabda, Sesungguhnya seluruh amal itu tergantung pada niat. Maka, barangsiapa yang berhijrah dalam rangka memenuhi seruan Allah dan rasul-Nya, maka hijrahnya benar-benar akan mendapatkan balasan berhijrah menuju Allah dan rasul-Nya. Dan barangsiapa yang hijrahnya karena menginginkan dunia atau wanita yang hendak dinikahinya, maka hijrahnya itu hanya akan memperoleh apa yang dia niatkan saja. (HR. Bukhari dan Muslim) Baca Juga: Fatwa Ulama: Fawaid Seputar Surat Al Ikhlash Dari Abu Hurairah radhiyallahuanhu, Rasulullah shallallahu alaihi wasallam bersabda, Sesungguhnya orang yang pertama kali akan diadili pada hari kiamat kelak adalah seorang yang berperang untuk mencari mati syahid di jalan Allah. Kemudian dia dihadirkan dan ditunjukkan kepadanya nikmat-nikmat yang telah diberikan kepadanya (di dunia) , maka dia pun mengakuinya. Allah bertanya, Apa yang sudah kamu kerjakan dengan nikmat-nikmat itu? Dia menjawab, Aku telah berperang di jalan-Mu hingga aku mati syahid. Allah menjawab, Kamu dusta! Sebenarnya kamu berperang karena ingin mendapatkan pujian sebagai seorang yang pemberani, dan hal itu telah kamu dapatkan. Lantas Allah memerintahkan malaikat untuk menyeretnya dalam keadaan tertelungkup dan dia pun dilemparkan ke dalam neraka. Berikutnya, seorang lelaki yang telah diberikan kelapangan rezeki dan dikaruniai beragam harta benda. Dia juga dihadirkan, dan ditunjukkan kepadanya nikmat-nikmat yang telah diberikan kepadanya. Dia pun mengakuinya. Allah pun bertanya kepadanya, Apa yang sudah kamu kerjakan dengannya? Dia menjawab, Tidak ada satu jalan pun yang harus kusedekahkan hartaku, kecuali telah aku infakkan harta itu di jalan-Mu, ikhlas karena-Mu. Maka, Allah menjawab, Kamu dusta! Sebenarnya kamu lakukan hal itu agar kamu dijuluki sebagai orang yang dermawan. Dan pujian itu telah kamu dapatkan. Lantas Allah memerintahkan malaikat untuk menyeretnya dalam keadaan tertelungkup dan dia pun dilemparkan ke dalam neraka. Berikutnya, seorang lelaki yang mempelajari ilmu (agama) dan mengajarkannya serta membaca Al-Quran. Dia pun dihadirkan dan ditunjukkan kepadanya nikmat-nikmat yang telah diberikan kepadanya. Dia pun mengakui itu semua. Allah bertanya, Apa yang sudah kamu perbuat dengan itu semua? Maka dia menjawab, Aku menuntut ilmu, mengajarkannya, dan membaca Al-Quran di jalan-Mu. Allah menjawab, Kamu dusta! Sesungguhnya kamu menuntut ilmu agar disebut sebagai orang alim, kamu membaca Al-Quran agar disebut sebagai qari. Lantas Allah memerintahkan malaikat untuk menyeretnya dalam keadaan tertelungkup dan dia pun dilemparkan ke dalam neraka. (HR. Muslim) Ali bin Abi Thalib radhiyallahu anhu mengatakan, Ada tiga buah tanda orang yang suka riya (beramal tidak ikhlas): [1] apabila sendirian, maka dia menjadi pemalas, [2] dan hanya bersemangat apabila berada bersama orang-orang, [3] dia akan meningkatkan amalnya jika dipuji dan akan mengurangi amalnya jika dicela orang karena melakukannya. (Al-Kabaair, hal. 156) Dzun Nun Al-Mishri mengatakan, Tidaklah aku melihat ada sesuatu yang lebih dapat membangkitkan keikhlasan daripada khalwah (menyendiri). (Risalah Qusyairiyah, 1: 50. Asy-Syamilah) Syaikh As-Sadi rahimahullah mengatakan, Ketahuilah, sesungguhnya mengikhlaskan amal karena Allah merupakan pondasi agama, ruh tauhid, dan ibadah. Hakikat ikhlas itu adalah hamba beribadah hanya bermaksud untuk mendapatkan pahala melihat wajah-Nya, menginginkan balasan, dan keutamaan dari-Nya. (Al-Qaul As-Sadid, hal. 107). Baca Juga: Buah Manis Keikhlasan Seorang ulama yang mulia dan sangat wara (berhati-hati) Sufyan Ats-Tsauri rahimahullah berkata, Tidaklah aku menyembuhkan sesuatu yang lebih sulit daripada niatku. (Tadzkiratus Sami wal Mutakallim dinukil dari Maalim fii Thariq Thalabil Ilmi, hal. 19) Yusuf bin Al Husain Ar-Razi rahimahullah mengatakan, Sesuatu yang paling sulit di dunia ini adalah ikhlas. Betapa sering aku berusaha mengenyahkan riya dari dalam hatiku, namun sepertinya ia kembali muncul dengan warna yang lain. (Jamiul Ulum, hal. 25). Ad-Daruquthni rahimahullah mengatakan, Pada awalnya kami menuntut ilmu bukan semata-mata karena Allah. Akan tetapi, ternyata ilmu itu enggan sehingga dia menyeret kami untuk ikhlas dalam belajar karena Allah. (Tadzkiratus Sami wal Mutakallim, dinukil dari Maalim, hal. 20) Asy-Syathibi rahimahullah mengatakan, Penyakit hati yang paling terakhir menghinggapi hati orang-orang saleh adalah suka mendapat kekuasaan dan gemar menonjolkan diri. (Al-Itisham, dinukil dari Maalim, hal. 20) Di dalam biografi Ayyub As-Sikhtiyani disebutkan oleh Syubah bahwa Ayyub mengatakan, Aku sering disebut orang, namun aku tidak senang disebut-sebut. (Siyar Alamin Nubala, dinukil dari Maalim, hal. 22) Pada suatu ketika, sampailah berita kepada Imam Ahmad bin Hanbal rahimahullah bahwa orang-orang mendoakan kebaikan untuknya, maka beliau berkata, Semoga saja, ini bukanlah bentuk istidraj (yang membuatku lupa diri). (Siyar Alamin Nubala, dinukil dari Maalim, hal. 22) Begitu pula ketika ada salah seorang muridnya yang mengabarkan pujian orang-orang kepada beliau, Imam Ahmad mengatakan kepada si murid, Wahai Abu Bakar! Apabila seseorang telah mengenali hakikat dirinya sendiri, maka ucapan orang tidak akan berguna baginya. (Siyar Alamin Nubala, dinukil dari Maalim, hal. 22) Diriwayatkan dari Mutharrif bin Abdullah rahimahullah bahwa dia mengatakan, Baiknya hati adalah dengan baiknya amalan. Sedangkan baiknya amalan adalah dengan baiknya niat. (Jamiul Ulum, hal. 17) Dari Ibnul Mubarak rahimahullah, dia mengatakan, Betapa banyak amal yang kecil menjadi besar gara-gara niat. Dan betapa banyak amal yang besar menjadi kecil gara-gara niat. (Jamiul Ulum, hal. 17). Sahl bin Abdullah rahimahullah mengatakan, Tidak ada sesuatu yang lebih berat bagi jiwa daripada keikhlasan, karena di dalamnya hawa nafsu tidak ambil bagian sama sekali. (Jamiul Ulum, hal. 25) Baca Juga: *** Penulis: Ari Wahyudi, S.Si. Artikel: www.muslim.or.id', '1. Hukum salat ‘Idain (Idulfitri dan Iduladha) adalah sunah muakad (sunnah mu’akkadah) karena salat wajib itu adalah salat lima waktu sebagaimana ditegaskan dalam hadis-hadis sahih di bawah ini dan tidak ada dalil khusus yang menegaskan wajibnya salat ‘Idain serta tidak ada sanksi bagi orang yang meninggalkannya. Hadis-hadis dimaksud adalah, [ ]. Dari Ṭalḥah Ibn ‘Ubaidillāh (diriwayatkan bahwa) ia berkata: Seorang laki-laki datang kepada Rasulullah saw lalu serta merta bertanya kepada beliau tentang Islam. Lalu Rasulullah saw menjawab: Lima salat diwajibkan sehari semalam. Ia bertanya lagi: apakah ada kewajiban (salat) lainnya? Rasulullah saw menjawab: Tidak, kecuali salat-salat tatawuk (sunah). Rasulullah saw kemudian meneruskan: Juga diwajibkan puasa Ramadan. Lalu ia bertanya lagi: apa ada kewajiban (puasa) lainnya? Rasulullah menjawab: Tidak, kecuali puasa tatawuk (sunah). (Abū Ṭalḥah melanjutkan): Lalu Rasulullah menyebutkan kewajiban (membayar) zakat. Orang itu bertanya lagi: apa ada kewajiban (pembayaran) lainnya? Rasulullah saw menjawab: Tidak, kecuali (infak) tatawuk (sunah). Lalu laki-laki itu pergi sambil berkata: Demi Allah saya tidak akan tambahi dan kurangi ini. Kemudian Rasulullah saw berkata: Orang itu beruntung, jika dia benar [HR al-Bukhārī, Muslim, Mālik Abū Dāwūd, dan an-Nasā’ī]. … [ ]. ‘Ubādah berkata: … Aku mendengar Rasulullah saw bersabda, “Lima salat diwajibkan oleh Allah atas hambanya. Barangsiapa melaksanakannya tanpa melalaikan sedikit punkarena memandang enteng kewajiban salat itu, maka dia mendapat janji dari Allah akan dimasukkan ke dalam surga; dan barangsiapa tidak mengerjakannya, maka dia tidak mendapat janji untuk dimasukkan ke dalam surga. Jika Allah menghendaki, Dia mengazabnya, tetapi jika Allah menghendaki, Dia (karena ia diampuni-Nya) memasukkannya ke dalam surga [HR Abū Dāwūd, an-Nasā’ī, dan Aḥmad]. Rasulullah saw tidak pernah meninggalkannya selama sembilan kali Syawal dan Zulhijah setelah disyariatkannya, tetapi juga tidak adanya sanksi hukum atas tidak mengerjakannya. Oleh karena itu, dari sini disimpulkan hukumnya sunah muakad. 2. Dasar hukum salat ‘Idain dikerjakan di lapangan dua rakaat, sebelum khutbah, tanpa azan dan tanpa iqamat, serta tidak ada salat sunah sebelum maupun sesudahnya, adalah hadis-hadis berikut ini, a. Hadis Abū Saʻīd, [ ]. Dari Abū Saʻīd al-Khudrī r.a. (diriwayatkan bahwa) ia berkata: Rasulullah saw keluar ke lapangan tempat salat (muṣallā) pada hari Idulfitri dan Iduladha, lalu hal pertama yang dilakukannya adalah salat, kemudian ia berangkat dan berdiri menghadap jamaah, sementara jamaah tetap duduk pada saf masing-masing, lalu Rasulullah menyampaikan wejangan, pesan, dan beberapa perintah … [HR al-Bukhārī]. b. Hadis Aḥmad dan an-Nasā’ī, [ ]. Dari Jābir (diriwayatkan bahwa) ia berkata: Saya mengikuti salat bersama Rasulullah di suatu hari Id. Beliau memulai salat sebelum khutbah, tanpa azan dan tanpa iqamat [Hadis sahih, riwayat Aḥmad dan an-Nasā’ī]. c. Hadis Ibn ‘Abbās, [ ]. Dari Ibn ‘Abbās (diriwayatkan bahwa) Nabi saw salat Id pada hari Id dua rakaat tanpa melakukan salat lain sebelum dan sesudahnya [HR tujuh ahli hadis, dan lafal di atas adalah lafal al-Bukhārī]. Sumber: Edaran Pimpinan Pusat Muhammadiyah Nomor 04/EDR/I.0/E/2020 Tentang Tuntunan Salat Idulfitri Dalam Kondisi Darurat Pandemi Covid-19 EDARAN PIMPINAN PUSAT MUHAMMADIYAH TENTANG SHALAT IDUL FITRI PADA MASA DARURAT COVID-19 1 file(s) 606.42 KB Download', \"PERTANYAAN : Assalamu'alaina. Punten, saya mau nanya : sebab-sebab dan akibat orang yang murtad itu apa-apa dan darimana ? Atas perhatiannya saya ucapkan terimakasih. [Kikie Love JuhryTirtadaya]. JAWABAN : Wa`alaikum salam. Macam-macam murtad sebagaimana di tulis dalam Kitab Sulam Taufiq sebagai berikut : 1.Murtad Fily (perbuatan) : Yaitu segala aktivitas yang bisa menyebabkan kita keluar dari ajaran Islam, aktivitas tersebut apakah dilakukan dengan sungguh-sungguh atau hanya sekedar bercanda atau juga bohong- bohongan semuanya sama saja termasuk murtad perbuatan, Contoh : Bersujud kepada Berhala, bersujud kepada Matahari. 2.Murtad I`tiqod. meyaqini adanya Tuhan selain Alloh. 3.Murtad Qauly (ucapan) : yaitu murtad yang disebabkan lidah atau ucapan, murtad jenis ini banyak sekali dan terkadang kita tidak sadar kalau hal itu termasuk murtad ucapan. Contoh: Mencemoohkan ayat suci Al Quran ,memanggil orang muslim dengan HAI KAFIR dll. [Mbah Jenggot II ]. Link Diskusi : www.fb.com/groups/piss.ktb/366687476687400/\", 'Para wanita boleh pergi ke masjid dan ikut melaksanakan shalat berjama’ah dengan syarat menghindarkan diri dari hal-hal yang membangkitkan syahwat dan menimbulkan fitnah, seperti mengenakan perhiasan dan menggunakan wangi-wangian. Rasulullah Shallallaahu alaihi wa Salam bersabda: \\xa0ﻮ ﻮﺑ ﺪﻤﺣ ﺎﻣﻹ ﻩ) ﻼ ﻔ ﺗ \\xa0ﻦ ﺟ ﺮ ﺨ ﻴ ﻟ \\xa0ﷲ \\xa0ﺪ ﺟ ﺎ ﺴ ﻣ \\xa0ﷲ ﺎ ﻣ \\xa0ﻮﻌﻨﻤﺗ ﻻ \\xa0“Janganlah kalian melarang para wanita (pergi) ke masjid dan\\xa0hendaklah mereka keluar dengan tidak memakai wangi-wangian.” (HR. Ahmad dan Abu Daud, hadits shahih) Dan beliau juga bersabda: “Perempuan yang mana saja yang memakai wangi- wangian, maka janganlah dia ikut shalat Isya’ berjama’ah bersama kami.” (HR. Muslim) Pada kesempatan lain, beliau juga bersabda: “Perempuan yang mana saja yang memakai wangi-wangian, kemudian dia pergi ke masjid, maka shalatnya tidak diterima sehingga dia mandi.” (HR. Ibnu Majah, hadits shahih) Beliau juga bersabda: \\xa0ﻮ ﻢﺎﺤﻟ ﻮﺑ ﺪﻤﺣ ﻩ) ﱠﻦ ﻬ ﻟ \\xa0ﺮ ﻴ ﺧ \\xa0ﱠﻦ ﻬ ﺗ ﻮ ﻴ ﺑ \\xa0ﺪ ﺟ ﺎ ﺴ ﻤ ﻟ \\xa0ﻢ ﺎ ﺴ ﻧ \\xa0ﻮﻌﻨﻤﺗ ﻻ \\xa0(ﺢﻴﺤﺻ “Jangan kamu melarang istri-istrimu (shalat) di masjid, namun rumah mereka sebenarnya lebih baik untuk mereka.” (HR. Ahmad, Abu Daud dan Al-Hakim, hadits shahih) Dalam sabdanya yang lain: \\xa0(ﻢﺎﺤﻟ ﻮﺑ ﻩ) ﺎﻬﺘﻴﺑ ﻰﻓ ﺎﻬﺗﻼﺻ ﻦ ﻣ \\xa0ﻞ ﻀ ﻓ \\xa0ﺎﻬﻋﺪﺨﻣ ﻰﻓ ﺎﻬﺗﻼﺻ “Shalat seorang wanita di salah satu ruangan rumahnya lebih utama\\xa0daripada di bagian tengah rumahnya dan \\xa0shalatnya di kamar\\xa0(pribadi)-nya lebih utama daripada (ruangan lain) di rumahnya.” (HR. Abu Daud dan Al-akim) Beliau bersabda pula: \\xa0(ﺢﻴﺤﺻ ﻮ ﻲﻘﻬﻴﺒﻟ ﺪﻤﺣ ﻩ) ﻦ ﻬ ﺗ ﻮ ﻴ ﺑ \\xa0ﺮ ﻌ ﻗ ﺎ ﺴ ﻨ ﻟ \\xa0ﺪ ﺟ ﺎ ﺴ ﻣ \\xa0ﺮ ﻴ ﺧ “Sebaik-baik tempat shalat bagi kaum wanita adalah bagian paling dalam (tersembunyi) dari rumahnya.” (HR. Ahmad dan Al-Baihaqi, hadits shahih)', 'QS.Surat Al-Baqarah[2]:233 () 233. Para ibu hendaklah menyusukan anak-anaknya selama dua tahun penuh, yaitu bagi yang ingin menyempurnakan penyusuan. Dan kewajiban ayah memberi makan dan pakaian kepada para ibu dengan cara maruf. Seseorang tidak dibebani melainkan menurut kadar kesanggupannya. Janganlah seorang ibu menderita kesengsaraan karena anaknya dan seorang ayah karena anaknya, dan warispun berkewajiban demikian. Apabila keduanya ingin menyapih (sebelum dua tahun) dengan kerelaan keduanya dan permusyawaratan, maka tidak ada dosa atas keduanya. Dan jika kamu ingin anakmu disusukan oleh orang lain, maka tidak ada dosa bagimu apabila kamu memberikan pembayaran menurut yang patut. Bertakwalah kamu kepada Allah dan ketahuilah bahwa Allah Maha Melihat apa yang kamu kerjakan.'], 'summary_content': ['Daftar Isi Allah berfirman, Dan tidaklah mereka diperintahkan melainkan supaya beribadah kepada Allah dengan mengikhlaskan amal ketaatan kepadaNya dalam menjalani agama yang lurus, mendirikan salat, menunaikan zakat. AlBayyinah 5 Allah juga berfirman, Sesungguhnya Kami menurunkan kepadamu AlKitab dengan benar. AzZumar 2 Allah pun berfirman memerintahkan kepada NabiNya, Katakanlah, Sesungguhnya Aku diperintahkan untuk beribadah kepada Allah dengan mengikhlaskan agama kepadaNya semata. Maka, barangsiapa yang berhijrah dalam rangka memenuhi seruan Allah dan rasulNya, maka hijrahnya benarbenar akan mendapatkan balasan berhijrah menuju Allah dan rasulNya. Allah bertanya, Apa yang sudah kamu kerjakan dengan nikmatnikmat itu Dia menjawab, Aku telah berperang di jalanMu hingga aku mati syahid. Lantas Allah memerintahkan malaikat untuk menyeretnya dalam keadaan tertelungkup dan dia pun dilemparkan ke dalam neraka. Berikutnya, seorang lelaki yang telah diberikan kelapangan rezeki dan dikaruniai beragam harta benda. Allah pun bertanya kepadanya, Apa yang sudah kamu kerjakan dengannya Dia menjawab, Tidak ada satu jalan pun yang harus kusedekahkan hartaku, kecuali telah aku infakkan harta itu di jalanMu, ikhlas karenaMu. Berikutnya, seorang lelaki yang mempelajari ilmu agama dan mengajarkannya serta membaca AlQuran. Dia pun dihadirkan dan ditunjukkan kepadanya nikmatnikmat yang telah diberikan kepadanya. Allah menjawab, Kamu dusta Sesungguhnya kamu menuntut ilmu agar disebut sebagai orang alim, kamu membaca AlQuran agar disebut sebagai qari. Muslim Ali bin Abi Thalib radhiyallahu anhu mengatakan, Ada tiga buah tanda orang yang suka riya beramal tidak ikhlas 1 apabila sendirian, maka dia menjadi pemalas, 2 dan hanya bersemangat apabila berada bersama orangorang, 3 dia akan meningkatkan amalnya jika dipuji dan akan mengurangi amalnya jika dicela orang karena melakukannya. 156 Dzun Nun AlMishri mengatakan, Tidaklah aku melihat ada sesuatu yang lebih dapat membangkitkan keikhlasan daripada khalwah menyendiri. AsySyamilah Syaikh AsSadi rahimahullah mengatakan, Ketahuilah, sesungguhnya mengikhlaskan amal karena Allah merupakan pondasi agama, ruh tauhid, dan ibadah. Tadzkiratus Sami wal Mutakallim dinukil dari Maalim fii Thariq Thalabil Ilmi, hal. 19 Yusuf bin Al Husain ArRazi rahimahullah mengatakan, Sesuatu yang paling sulit di dunia ini adalah ikhlas. Betapa sering aku berusaha mengenyahkan riya dari dalam hatiku, namun sepertinya ia kembali muncul dengan warna yang lain. Akan tetapi, ternyata ilmu itu enggan sehingga dia menyeret kami untuk ikhlas dalam belajar karena Allah. 20 AsySyathibi rahimahullah mengatakan, Penyakit hati yang paling terakhir menghinggapi hati orangorang saleh adalah suka mendapat kekuasaan dan gemar menonjolkan diri. 20 Di dalam biografi Ayyub AsSikhtiyani disebutkan oleh Syubah bahwa Ayyub mengatakan, Aku sering disebut orang, namun aku tidak senang disebutsebut. Siyar Alamin Nubala, dinukil dari Maalim, hal. 22 Pada suatu ketika, sampailah berita kepada Imam Ahmad bin Hanbal rahimahullah bahwa orangorang mendoakan kebaikan untuknya, maka beliau berkata, Semoga saja, ini bukanlah bentuk istidraj yang membuatku lupa diri. 22 Begitu pula ketika ada salah seorang muridnya yang mengabarkan pujian orangorang kepada beliau, Imam Ahmad mengatakan kepada si murid, Wahai Abu Bakar Apabila seseorang telah mengenali hakikat dirinya sendiri, maka ucapan orang tidak akan berguna baginya. Sedangkan baiknya amalan adalah dengan baiknya niat. 17 Dari Ibnul Mubarak rahimahullah, dia mengatakan, Betapa banyak amal yang kecil menjadi besar garagara niat. Sahl bin Abdullah rahimahullah mengatakan, Tidak ada sesuatu yang lebih berat bagi jiwa daripada keikhlasan, karena di dalamnya hawa nafsu tidak ambil bagian sama sekali.', 'Hukum salat Idain Idulfitri dan Iduladha adalah sunah muakad sunnah muakkadah karena salat wajib itu adalah salat lima waktu sebagaimana ditegaskan dalam hadishadis sahih di bawah ini dan tidak ada dalil khusus yang menegaskan wajibnya salat Idain serta tidak ada sanksi bagi orang yang meninggalkannya. Dari Ṭalḥah Ibn Ubaidillāh diriwayatkan bahwa ia berkata Seorang lakilaki datang kepada Rasulullah saw lalu serta merta bertanya kepada beliau tentang Islam. Lalu Rasulullah saw menjawab Lima salat diwajibkan sehari semalam. Rasulullah saw kemudian meneruskan Juga diwajibkan puasa Ramadan. Lalu ia bertanya lagi apa ada kewajiban puasa lainnya Rasulullah menjawab Tidak, kecuali puasa tatawuk sunah. Abū Ṭalḥah melanjutkan Lalu Rasulullah menyebutkan kewajiban membayar zakat. Lalu lakilaki itu pergi sambil berkata Demi Allah saya tidak akan tambahi dan kurangi ini. Kemudian Rasulullah saw berkata Orang itu beruntung, jika dia benar HR alBukhārī, Muslim, Mālik Abū Dāwūd, dan anNasāī. . Barangsiapa melaksanakannya tanpa melalaikan sedikit punkarena memandang enteng kewajiban salat itu, maka dia mendapat janji dari Allah akan dimasukkan ke dalam surga dan barangsiapa tidak mengerjakannya, maka dia tidak mendapat janji untuk dimasukkan ke dalam surga. Jika Allah menghendaki, Dia mengazabnya, tetapi jika Allah menghendaki, Dia karena ia diampuniNya memasukkannya ke dalam surga HR Abū Dāwūd, anNasāī, dan Aḥmad. Rasulullah saw tidak pernah meninggalkannya selama sembilan kali Syawal dan Zulhijah setelah disyariatkannya, tetapi juga tidak adanya sanksi hukum atas tidak mengerjakannya. Oleh karena itu, dari sini disimpulkan hukumnya sunah muakad. Dasar hukum salat Idain dikerjakan di lapangan dua rakaat, sebelum khutbah, tanpa azan dan tanpa iqamat, serta tidak ada salat sunah sebelum maupun sesudahnya, adalah hadishadis berikut ini, a. Hadis Abū Saʻīd, . diriwayatkan bahwa ia berkata Rasulullah saw keluar ke lapangan tempat salat muṣallā pada hari Idulfitri dan Iduladha, lalu hal pertama yang dilakukannya adalah salat, kemudian ia berangkat dan berdiri menghadap jamaah, sementara jamaah tetap duduk pada saf masingmasing, lalu Rasulullah menyampaikan wejangan, pesan, dan beberapa perintah HR alBukhārī. Dari Jābir diriwayatkan bahwa ia berkata Saya mengikuti salat bersama Rasulullah di suatu hari Id. Beliau memulai salat sebelum khutbah, tanpa azan dan tanpa iqamat Hadis sahih, riwayat Aḥmad dan anNasāī. Sumber Edaran Pimpinan Pusat Muhammadiyah Nomor 04EDRI.0E2020 Tentang Tuntunan Salat Idulfitri Dalam Kondisi Darurat Pandemi Covid19 EDARAN PIMPINAN PUSAT MUHAMMADIYAH TENTANG SHALAT IDUL FITRI PADA MASA DARURAT COVID19 1 files 606.42 KB Download', 'PERTANYAAN Assalamualaina. Punten, saya mau nanya sebabsebab dan akibat orang yang murtad itu apaapa dan darimana Atas perhatiannya saya ucapkan terimakasih. Kikie Love JuhryTirtadaya. JAWABAN Waalaikum salam. Macammacam murtad sebagaimana di tulis dalam Kitab Sulam Taufiq sebagai berikut 1.Murtad Fily perbuatan Yaitu segala aktivitas yang bisa menyebabkan kita keluar dari ajaran Islam, aktivitas tersebut apakah dilakukan dengan sungguhsungguh atau hanya sekedar bercanda atau juga bohong bohongan semuanya sama saja termasuk murtad perbuatan, Contoh Bersujud kepada Berhala, bersujud kepada Matahari. 2.Murtad Itiqod. meyaqini adanya Tuhan selain Alloh. 3.Murtad Qauly ucapan yaitu murtad yang disebabkan lidah atau ucapan, murtad jenis ini banyak sekali dan terkadang kita tidak sadar kalau hal itu termasuk murtad ucapan. Contoh Mencemoohkan ayat suci Al Quran ,memanggil orang muslim dengan HAI KAFIR dll. Mbah Jenggot II . Link Diskusi www.fb.comgroupspiss.ktb366687476687400', 'Para wanita boleh pergi ke masjid dan ikut melaksanakan shalat berjamaah dengan syarat menghindarkan diri dari halhal yang membangkitkan syahwat dan menimbulkan fitnah, seperti mengenakan perhiasan dan menggunakan wangiwangian. Rasulullah Shallallaahu alaihi wa Salam bersabda ﻮ ﻮﺑ ﺪﻤﺣ ﺎﻣﻹ ﻩ ﻼ ﻔ ﺗ ﻦ ﺟ ﺮ ﺨ ﻴ ﻟ ﷲ ﺪ ﺟ ﺎ ﺴ ﻣ ﷲ ﺎ ﻣ ﻮﻌﻨﻤﺗ ﻻ Janganlah kalian melarang para wanita pergi ke masjid dan hendaklah mereka keluar dengan tidak memakai wangiwangian. HR. Ahmad dan Abu Daud, hadits shahih Dan beliau juga bersabda Perempuan yang mana saja yang memakai wangi wangian, maka janganlah dia ikut shalat Isya berjamaah bersama kami. HR. Muslim Pada kesempatan lain, beliau juga bersabda Perempuan yang mana saja yang memakai wangiwangian, kemudian dia pergi ke masjid, maka shalatnya tidak diterima sehingga dia mandi. HR. Ibnu Majah, hadits shahih Beliau juga bersabda ﻮ ﻢﺎﺤﻟ ﻮﺑ ﺪﻤﺣ ﻩ ﱠﻦ ﻬ ﻟ ﺮ ﻴ ﺧ ﱠﻦ ﻬ ﺗ ﻮ ﻴ ﺑ ﺪ ﺟ ﺎ ﺴ ﻤ ﻟ ﻢ ﺎ ﺴ ﻧ ﻮﻌﻨﻤﺗ ﻻ ﺢﻴﺤﺻ Jangan kamu melarang istriistrimu shalat di masjid, namun rumah mereka sebenarnya lebih baik untuk mereka. HR. Ahmad, Abu Daud dan AlHakim, hadits shahih Dalam sabdanya yang lain ﻢﺎﺤﻟ ﻮﺑ ﻩ ﺎﻬﺘﻴﺑ ﻰﻓ ﺎﻬﺗﻼﺻ ﻦ ﻣ ﻞ ﻀ ﻓ ﺎﻬﻋﺪﺨﻣ ﻰﻓ ﺎﻬﺗﻼﺻ Shalat seorang wanita di salah satu ruangan rumahnya lebih utama daripada di bagian tengah rumahnya dan shalatnya di kamar pribadinya lebih utama daripada ruangan lain di rumahnya. HR. Abu Daud dan Alakim Beliau bersabda pula ﺢﻴﺤﺻ ﻮ ﻲﻘﻬﻴﺒﻟ ﺪﻤﺣ ﻩ ﻦ ﻬ ﺗ ﻮ ﻴ ﺑ ﺮ ﻌ ﻗ ﺎ ﺴ ﻨ ﻟ ﺪ ﺟ ﺎ ﺴ ﻣ ﺮ ﻴ ﺧ Sebaikbaik tempat shalat bagi kaum wanita adalah bagian paling dalam tersembunyi dari rumahnya. HR. Ahmad dan AlBaihaqi, hadits shahih', 'QS.Surat AlBaqarah2233 233. Para ibu hendaklah menyusukan anakanaknya selama dua tahun penuh, yaitu bagi yang ingin menyempurnakan penyusuan. Dan kewajiban ayah memberi makan dan pakaian kepada para ibu dengan cara maruf. Seseorang tidak dibebani melainkan menurut kadar kesanggupannya. Janganlah seorang ibu menderita kesengsaraan karena anaknya dan seorang ayah karena anaknya, dan warispun berkewajiban demikian. Apabila keduanya ingin menyapih sebelum dua tahun dengan kerelaan keduanya dan permusyawaratan, maka tidak ada dosa atas keduanya. Dan jika kamu ingin anakmu disusukan oleh orang lain, maka tidak ada dosa bagimu apabila kamu memberikan pembayaran menurut yang patut. Bertakwalah kamu kepada Allah dan ketahuilah bahwa Allah Maha Melihat apa yang kamu kerjakan.']}\n"
          ]
        }
      ],
      "source": [
        "from datasets import load_dataset\n",
        "\n",
        "def load_dataset_subset(num_samples: int = 100) -> list:\n",
        "    \"\"\"Load a subset of the wikipedia\"\"\"\n",
        "\n",
        "    dataset = load_dataset(\"ramadita/indo-islamic-article\", split=\"train\")\n",
        "    print(dataset[:5])\n",
        "    texts = dataset['content'][:num_samples]  # Limit to a small subset\n",
        "    return texts\n",
        "\n",
        "texts = load_dataset_subset(num_samples=10)  # Load 10 samples for demonstration\n"
      ]
    },
    {
      "cell_type": "markdown",
      "metadata": {
        "id": "Yc4tp2IjcwK8"
      },
      "source": [
        "FIXED LENGTH CHUNKING\n"
      ]
    },
    {
      "cell_type": "code",
      "execution_count": null,
      "metadata": {
        "id": "dS2_8LADof2j"
      },
      "outputs": [],
      "source": [
        "from nltk.tokenize import word_tokenize\n",
        "\n",
        "def fixed_length_chunks(text: str, chunk_size: int = 100) -> list:\n",
        "    \"\"\"Split text into fixed-length word chunks.\"\"\"\n",
        "    words = word_tokenize(text)\n",
        "    return [' '.join(words[i:i + chunk_size]) for i in range(0, len(words), chunk_size)]\n"
      ]
    },
    {
      "cell_type": "markdown",
      "metadata": {
        "id": "CrsSET6pc1Qy"
      },
      "source": [
        "SENTENCE LENGTH CHUNKING\n"
      ]
    },
    {
      "cell_type": "code",
      "execution_count": null,
      "metadata": {
        "id": "3AAtAo4dcrPJ"
      },
      "outputs": [],
      "source": [
        "from nltk.tokenize import sent_tokenize\n",
        "\n",
        "def sentence_based_chunks(text: str, sentences_per_chunk: int = 3) -> list:\n",
        "    \"\"\"Split text into sentence-based chunks.\"\"\"\n",
        "    sentences = sent_tokenize(text)\n",
        "    return [' '.join(sentences[i:i + sentences_per_chunk]) for i in range(0, len(sentences), sentences_per_chunk)]\n"
      ]
    },
    {
      "cell_type": "markdown",
      "metadata": {
        "id": "X5C0Bow8c53-"
      },
      "source": [
        "PARA LENGTH CHUNKING"
      ]
    },
    {
      "cell_type": "code",
      "execution_count": null,
      "metadata": {
        "id": "PNbJgM-jc77L"
      },
      "outputs": [],
      "source": [
        "def paragraph_based_chunks(text: str) -> list:\n",
        "    \"\"\"Split text into paragraph-based chunks.\"\"\"\n",
        "    return [p.strip() for p in text.split('\\n\\n') if p.strip()]\n"
      ]
    },
    {
      "cell_type": "markdown",
      "metadata": {
        "id": "_TLejVr4ctJV"
      },
      "source": [
        "CHUNK QUALITY CHECKING"
      ]
    },
    {
      "cell_type": "markdown",
      "metadata": {
        "id": "BHUes583dECv"
      },
      "source": [
        "INFORMATION DENSITY\n"
      ]
    },
    {
      "cell_type": "code",
      "execution_count": null,
      "metadata": {
        "id": "MwGLwc56dNJJ"
      },
      "outputs": [],
      "source": [
        "def calculate_information_density(chunk: str) -> float:\n",
        "    \"\"\"Calculate information density as the ratio of unique words to total words.\"\"\"\n",
        "    words = word_tokenize(chunk.lower())\n",
        "    unique_words = set(words)\n",
        "    return len(unique_words) / len(words) if words else 0\n"
      ]
    },
    {
      "cell_type": "markdown",
      "metadata": {
        "id": "_gH0znTudP8b"
      },
      "source": [
        "SEMANTIC COHERENCE"
      ]
    },
    {
      "cell_type": "code",
      "execution_count": null,
      "metadata": {
        "id": "bc2OzF0pdSOY"
      },
      "outputs": [],
      "source": [
        "from sentence_transformers import SentenceTransformer\n",
        "from sklearn.metrics.pairwise import cosine_similarity\n",
        "import numpy as np\n",
        "\n",
        "model = SentenceTransformer('distilbert-base-nli-stsb-mean-tokens')\n",
        "\n",
        "def calculate_semantic_coherence(chunks: list) -> float:\n",
        "    \"\"\"Calculate average semantic coherence between consecutive chunks.\"\"\"\n",
        "    if len(chunks) < 2:\n",
        "        return 1.0\n",
        "    embeddings = model.encode(chunks)\n",
        "    similarities = [\n",
        "        cosine_similarity(embeddings[i].reshape(1, -1), embeddings[i + 1].reshape(1, -1))[0][0]\n",
        "        for i in range(len(embeddings) - 1)\n",
        "    ]\n",
        "    return np.mean(similarities)\n"
      ]
    },
    {
      "cell_type": "markdown",
      "metadata": {
        "id": "GHUJ9pj2dYox"
      },
      "source": [
        "CONTEXT OVERLAP"
      ]
    },
    {
      "cell_type": "code",
      "execution_count": null,
      "metadata": {
        "id": "cfwEIZQLdcyH"
      },
      "outputs": [],
      "source": [
        "def calculate_context_overlap(chunks: list) -> float:\n",
        "    \"\"\"Calculate average word overlap between consecutive chunks.\"\"\"\n",
        "    if len(chunks) < 2:\n",
        "        return 1.0\n",
        "    overlaps = [\n",
        "        len(set(word_tokenize(chunks[i].lower())).intersection(word_tokenize(chunks[i + 1].lower()))) /\n",
        "        len(set(word_tokenize(chunks[i].lower())).union(word_tokenize(chunks[i + 1].lower())))\n",
        "        for i in range(len(chunks) - 1)\n",
        "    ]\n",
        "    return np.mean(overlaps)\n"
      ]
    },
    {
      "cell_type": "markdown",
      "metadata": {
        "id": "dpPHI9oadUTe"
      },
      "source": [
        "ANALYSE CHUNKS ON THE BASIS OF METRICS"
      ]
    },
    {
      "cell_type": "code",
      "execution_count": null,
      "metadata": {
        "id": "yTfyUxiCdj4e"
      },
      "outputs": [],
      "source": [
        "def analyze_chunks(chunks: list) -> dict:\n",
        "    \"\"\"Analyze chunks using multiple metrics.\"\"\"\n",
        "    return {\n",
        "        'num_chunks': len(chunks),\n",
        "        'avg_chunk_length': np.mean([len(word_tokenize(chunk)) for chunk in chunks]),\n",
        "        'information_density': np.mean([calculate_information_density(chunk) for chunk in chunks]),\n",
        "        'semantic_coherence': calculate_semantic_coherence(chunks),\n",
        "        'context_overlap': calculate_context_overlap(chunks),\n",
        "    }\n"
      ]
    },
    {
      "cell_type": "markdown",
      "metadata": {
        "id": "db5LlODYdoVl"
      },
      "source": [
        "COMPARING THE CHUNKS"
      ]
    },
    {
      "cell_type": "code",
      "execution_count": null,
      "metadata": {
        "id": "YLPV0tX5drcR",
        "colab": {
          "base_uri": "https://localhost:8080/"
        },
        "outputId": "7dbffc5f-0eb7-447d-96ba-713fce488619"
      },
      "outputs": [
        {
          "output_type": "stream",
          "name": "stdout",
          "text": [
            "Results for text: Daftar Isi Allah berfirman, ⁠ Dan tidaklah mereka ...\n",
            "Fixed Length: {'num_chunks': 12, 'avg_chunk_length': 93.91666666666667, 'information_density': 0.6675617283950617, 'semantic_coherence': 0.8244835, 'context_overlap': 0.20775675960937895}\n",
            "Sentence Based: {'num_chunks': 25, 'avg_chunk_length': 45.08, 'information_density': 0.7876560171714729, 'semantic_coherence': 0.79182434, 'context_overlap': 0.1631021358146368}\n",
            "Paragraph Based: {'num_chunks': 1, 'avg_chunk_length': 1127.0, 'information_density': 0.35790408525754885, 'semantic_coherence': 1.0, 'context_overlap': 1.0}\n",
            "\n",
            "Results for text: 1. Hukum salat ‘Idain (Idulfitri dan Iduladha) ada...\n",
            "Fixed Length: {'num_chunks': 7, 'avg_chunk_length': 90.42857142857143, 'information_density': 0.6697835497835498, 'semantic_coherence': 0.8242719, 'context_overlap': 0.20741717903201895}\n",
            "Sentence Based: {'num_chunks': 10, 'avg_chunk_length': 63.3, 'information_density': 0.7394789083867057, 'semantic_coherence': 0.8882698, 'context_overlap': 0.2489260601253816}\n",
            "Paragraph Based: {'num_chunks': 1, 'avg_chunk_length': 633.0, 'information_density': 0.37083993660855785, 'semantic_coherence': 1.0, 'context_overlap': 1.0}\n",
            "\n",
            "Results for text: PERTANYAAN : Assalamu'alaina. Punten, saya mau nan...\n",
            "Fixed Length: {'num_chunks': 2, 'avg_chunk_length': 84.5, 'information_density': 0.8080434782608696, 'semantic_coherence': 0.79955864, 'context_overlap': 0.1623931623931624}\n",
            "Sentence Based: {'num_chunks': 4, 'avg_chunk_length': 42.25, 'information_density': 0.8640989890989892, 'semantic_coherence': 0.69076633, 'context_overlap': 0.08569972959203669}\n",
            "Paragraph Based: {'num_chunks': 1, 'avg_chunk_length': 169.0, 'information_density': 0.6923076923076923, 'semantic_coherence': 1.0, 'context_overlap': 1.0}\n",
            "\n",
            "Results for text: Para wanita boleh pergi ke masjid dan ikut melaksa...\n",
            "Fixed Length: {'num_chunks': 4, 'avg_chunk_length': 91.75, 'information_density': 0.7198171667261604, 'semantic_coherence': 0.86783296, 'context_overlap': 0.25429016595733506}\n",
            "Sentence Based: {'num_chunks': 3, 'avg_chunk_length': 120.33333333333333, 'information_density': 0.7135724852071007, 'semantic_coherence': 0.87245435, 'context_overlap': 0.3311558380414312}\n",
            "Paragraph Based: {'num_chunks': 1, 'avg_chunk_length': 361.0, 'information_density': 0.4376731301939058, 'semantic_coherence': 1.0, 'context_overlap': 1.0}\n",
            "\n",
            "Results for text: QS.Surat Al-Baqarah[2]:233 () 233. Para ibu hendak...\n",
            "Fixed Length: {'num_chunks': 2, 'avg_chunk_length': 63.5, 'information_density': 0.7524074074074074, 'semantic_coherence': 0.7693274, 'context_overlap': 0.12345679012345678}\n",
            "Sentence Based: {'num_chunks': 3, 'avg_chunk_length': 42.333333333333336, 'information_density': 0.828874269005848, 'semantic_coherence': 0.831158, 'context_overlap': 0.174916573971079}\n",
            "Paragraph Based: {'num_chunks': 1, 'avg_chunk_length': 127.0, 'information_density': 0.6428571428571429, 'semantic_coherence': 1.0, 'context_overlap': 1.0}\n",
            "\n",
            "Results for text: Di antara tujuan utama kita melakukan ziarah kubur...\n",
            "Fixed Length: {'num_chunks': 4, 'avg_chunk_length': 78.0, 'information_density': 0.7458333333333333, 'semantic_coherence': 0.7840341, 'context_overlap': 0.17054929325460724}\n",
            "Sentence Based: {'num_chunks': 4, 'avg_chunk_length': 78.0, 'information_density': 0.7456833687570438, 'semantic_coherence': 0.84402436, 'context_overlap': 0.19152717266681954}\n",
            "Paragraph Based: {'num_chunks': 1, 'avg_chunk_length': 312.0, 'information_density': 0.4807692307692308, 'semantic_coherence': 1.0, 'context_overlap': 1.0}\n",
            "\n",
            "Results for text: Laduni.ID, Jakarta - Setiap orang mengalami fase u...\n",
            "Fixed Length: {'num_chunks': 4, 'avg_chunk_length': 86.5, 'information_density': 0.722582508250825, 'semantic_coherence': 0.84372646, 'context_overlap': 0.1190514540734829}\n",
            "Sentence Based: {'num_chunks': 7, 'avg_chunk_length': 49.285714285714285, 'information_density': 0.8050008909573074, 'semantic_coherence': 0.7984244, 'context_overlap': 0.09939188955305898}\n",
            "Paragraph Based: {'num_chunks': 1, 'avg_chunk_length': 345.0, 'information_density': 0.5436046511627907, 'semantic_coherence': 1.0, 'context_overlap': 1.0}\n",
            "\n",
            "Results for text: Selingkuh itu mudah dilakukan karena ada nafsu unt...\n",
            "Fixed Length: {'num_chunks': 11, 'avg_chunk_length': 95.72727272727273, 'information_density': 0.6936535162950257, 'semantic_coherence': 0.8365361, 'context_overlap': 0.20800726433389452}\n",
            "Sentence Based: {'num_chunks': 15, 'avg_chunk_length': 70.2, 'information_density': 0.7506343476700889, 'semantic_coherence': 0.7316058, 'context_overlap': 0.09396748917069174}\n",
            "Paragraph Based: {'num_chunks': 1, 'avg_chunk_length': 1053.0, 'information_density': 0.3967649857278782, 'semantic_coherence': 1.0, 'context_overlap': 1.0}\n",
            "\n",
            "Results for text: Eramuslim.com – SELAMA ini kita mengenal Syaikul I...\n",
            "Fixed Length: {'num_chunks': 14, 'avg_chunk_length': 93.85714285714286, 'information_density': 0.7291836734693878, 'semantic_coherence': 0.81259835, 'context_overlap': 0.1317574342500096}\n",
            "Sentence Based: {'num_chunks': 21, 'avg_chunk_length': 62.57142857142857, 'information_density': 0.7842580765064883, 'semantic_coherence': 0.8074958, 'context_overlap': 0.12934708077639356}\n",
            "Paragraph Based: {'num_chunks': 1, 'avg_chunk_length': 1314.0, 'information_density': 0.4254185692541857, 'semantic_coherence': 1.0, 'context_overlap': 1.0}\n",
            "\n",
            "Results for text: Bismillah. Segala puji hanya bagi Allah Rabb semes...\n",
            "Fixed Length: {'num_chunks': 7, 'avg_chunk_length': 96.28571428571429, 'information_density': 0.7113127413127414, 'semantic_coherence': 0.8229735, 'context_overlap': 0.1809652614165925}\n",
            "Sentence Based: {'num_chunks': 13, 'avg_chunk_length': 51.84615384615385, 'information_density': 0.7855190726185679, 'semantic_coherence': 0.77016497, 'context_overlap': 0.1215504373717084}\n",
            "Paragraph Based: {'num_chunks': 1, 'avg_chunk_length': 674.0, 'information_density': 0.42729970326409494, 'semantic_coherence': 1.0, 'context_overlap': 1.0}\n",
            "\n"
          ]
        }
      ],
      "source": [
        "def compare_chunking_methods(texts: list):\n",
        "    \"\"\"Compare metrics for different chunking methods.\"\"\"\n",
        "    results = {}\n",
        "    for text in texts:\n",
        "        # Analyze chunks for different methods\n",
        "        fixed_metrics = analyze_chunks(fixed_length_chunks(text))\n",
        "        sentence_metrics = analyze_chunks(sentence_based_chunks(text))\n",
        "        paragraph_metrics = analyze_chunks(paragraph_based_chunks(text))\n",
        "\n",
        "        # Store the results\n",
        "        results[text[:50]] = {\n",
        "            'fixed_length': fixed_metrics,\n",
        "            'sentence_based': sentence_metrics,\n",
        "            'paragraph_based': paragraph_metrics\n",
        "        }\n",
        "\n",
        "        # Print the results for the current text\n",
        "        print(f\"Results for text: {text[:50]}...\")\n",
        "        print(f\"Fixed Length: {fixed_metrics}\")\n",
        "        print(f\"Sentence Based: {sentence_metrics}\")\n",
        "        print(f\"Paragraph Based: {paragraph_metrics}\\n\")\n",
        "\n",
        "    return results\n",
        "\n",
        "# Assuming 'texts' is already defined, call the function\n",
        "results = compare_chunking_methods(texts)\n"
      ]
    },
    {
      "cell_type": "markdown",
      "source": [
        "ANALYSE TOKEN EFFICIENCY"
      ],
      "metadata": {
        "id": "Aon2UQx9ZnZF"
      }
    },
    {
      "cell_type": "code",
      "source": [
        "# Token Efficiency\n",
        "def calculate_token_efficiency(chunk: str) -> float:\n",
        "    \"\"\"Calculate token efficiency as the ratio of non-stopwords to total words.\"\"\"\n",
        "    words = word_tokenize(chunk.lower())\n",
        "    non_stopwords = [word for word in words if word not in stopwords.words('english')]\n",
        "    return len(non_stopwords) / len(words) if words else 0\n",
        "\n",
        "# Compression Ratio\n",
        "def calculate_compression_ratio(original_text: str, chunks: list) -> float:\n",
        "    \"\"\"Calculate compression ratio as the ratio of chunked text length to original text length.\"\"\"\n",
        "    original_length = len(word_tokenize(original_text))\n",
        "    chunked_length = sum(len(word_tokenize(chunk)) for chunk in chunks)\n",
        "    return chunked_length / original_length if original_length else 0\n"
      ],
      "metadata": {
        "id": "lM_-RFwBZqoU"
      },
      "execution_count": null,
      "outputs": []
    },
    {
      "cell_type": "markdown",
      "source": [
        "Analyze semantic preservation"
      ],
      "metadata": {
        "id": "8jnFIiCMZ57l"
      }
    },
    {
      "cell_type": "code",
      "source": [
        "import matplotlib.pyplot as plt\n",
        "from sklearn.metrics.pairwise import cosine_similarity\n",
        "\n",
        "def calculate_semantic_preservation(original_text: str, chunks: list) -> float:\n",
        "    \"\"\"Calculate semantic preservation between original text and concatenated chunks.\"\"\"\n",
        "    original_embedding = model.encode([original_text])[0]\n",
        "    concatenated_chunks = ' '.join(chunks)\n",
        "    chunked_embedding = model.encode([concatenated_chunks])[0]\n",
        "\n",
        "    similarity = cosine_similarity([original_embedding], [chunked_embedding])[0][0]\n",
        "\n",
        "    # Visualize the semantic preservation score\n",
        "    plt.figure(figsize=(6, 4))\n",
        "    plt.bar(['Original vs Chunked'], [similarity], color='skyblue')\n",
        "    plt.ylabel('Cosine Similarity')\n",
        "    plt.title('Semantic Preservation Score')\n",
        "    plt.ylim(0, 1)  # Cosine similarity ranges from 0 to 1\n",
        "    plt.show()\n",
        "\n",
        "    return similarity\n"
      ],
      "metadata": {
        "id": "iJlB3itcZsDt"
      },
      "execution_count": null,
      "outputs": []
    },
    {
      "cell_type": "code",
      "source": [
        "def compare_token_efficiency_and_compression(text: str) -> dict:\n",
        "    \"\"\"Compare token efficiency and compression ratio for chunking methods.\"\"\"\n",
        "    methods = {\n",
        "        'fixed_length': fixed_length_chunks(text),\n",
        "        'sentence_based': sentence_based_chunks(text),\n",
        "        'paragraph_based': paragraph_based_chunks(text)\n",
        "\n",
        "    }\n",
        "    results = {}\n",
        "    for method, chunks in methods.items():\n",
        "        results[method] = {\n",
        "            'token_efficiency': np.mean([calculate_token_efficiency(chunk) for chunk in chunks]),\n",
        "            'compression_ratio': calculate_compression_ratio(text, chunks)\n",
        "        }\n",
        "    return results\n"
      ],
      "metadata": {
        "id": "FokqiC4cZ7bm"
      },
      "execution_count": null,
      "outputs": []
    },
    {
      "cell_type": "code",
      "source": [
        "import matplotlib.pyplot as plt\n",
        "import numpy as np\n",
        "\n",
        "def visualize_results(results):\n",
        "    # List of methods to compare\n",
        "    methods = ['fixed_length', 'sentence_based', 'paragraph_based']\n",
        "\n",
        "    # List of metrics to visualize\n",
        "    metrics = ['information_density', 'avg_chunk_length', 'semantic_coherence', 'context_overlap', 'token_efficiency', 'compression_ratio']\n",
        "\n",
        "    # Create a plot for each metric\n",
        "    for metric in metrics:\n",
        "        plt.figure(figsize=(10, 6))\n",
        "\n",
        "        # Gather the values for each method for the current metric\n",
        "        method_values = {method: [] for method in methods}  # Prepare empty list for each method\n",
        "        for text in results:\n",
        "            for method in methods:\n",
        "                method_values[method].append(results[text][method].get(metric, 'N/A'))\n",
        "\n",
        "        # Plot the lines for the current metric\n",
        "        for method in methods:\n",
        "            plt.plot(list(results.keys()), method_values[method], marker='o', label=method.capitalize())\n",
        "\n",
        "        # Set labels, title, and legend\n",
        "        plt.xlabel('Chunks')\n",
        "        plt.ylabel('Value')\n",
        "        plt.title(f'Comparison of {metric.replace(\"_\", \" \").capitalize()} Across Chunking Methods')\n",
        "\n",
        "        # Remove x-axis tick labels (the texts from each chunk)\n",
        "        plt.xticks([])  # This will remove the chunk names from the x-axis\n",
        "\n",
        "        # Add a legend to identify each chunking method\n",
        "        plt.legend()\n",
        "\n",
        "        # Adjust the layout to prevent overlapping of labels\n",
        "        plt.tight_layout()\n",
        "\n",
        "        # Show the plot\n",
        "        plt.show()\n",
        "\n",
        "\n",
        "visualize_results(results)\n"
      ],
      "metadata": {
        "colab": {
          "base_uri": "https://localhost:8080/",
          "height": 1000
        },
        "id": "GMgZd50kbxAG",
        "outputId": "9a84351b-8859-4eec-9c2d-ab64211809ea"
      },
      "execution_count": null,
      "outputs": [
        {
          "output_type": "display_data",
          "data": {
            "text/plain": [
              "<Figure size 1000x600 with 1 Axes>"
            ],
            "image/png": "[encoded data removed]"
          },
          "metadata": {}
        },
        {
          "output_type": "display_data",
          "data": {
            "text/plain": [
              "<Figure size 1000x600 with 1 Axes>"
            ],
            "image/png": "[encoded data removed]"
          },
          "metadata": {}
        },
        {
          "output_type": "display_data",
          "data": {
            "text/plain": [
              "<Figure size 1000x600 with 1 Axes>"
            ],
            "image/png": "[encoded data removed]"
          },
          "metadata": {}
        },
        {
          "output_type": "display_data",
          "data": {
            "text/plain": [
              "<Figure size 1000x600 with 1 Axes>"
            ],
            "image/png": "[encoded data removed]"
          },
          "metadata": {}
        },
        {
          "output_type": "display_data",
          "data": {
            "text/plain": [
              "<Figure size 1000x600 with 1 Axes>"
            ],
            "image/png": "[encoded data removed]"
          },
          "metadata": {}
        },
        {
          "output_type": "display_data",
          "data": {
            "text/plain": [
              "<Figure size 1000x600 with 1 Axes>"
            ],
            "image/png": "[encoded data removed]"
          },
          "metadata": {}
        }
      ]
    },
    {
      "cell_type": "code",
      "source": [
        "def document_tradeoffs(results: dict) -> str:\n",
        "\n",
        "    summary = \"Trade-offs between chunking methods:\\n\"\n",
        "\n",
        "    for method, metrics in results.items():\n",
        "        summary += f\"\\nMethod: {method.capitalize()}\\n\"\n",
        "        summary += f\" - Token Efficiency: {metrics.get('token_efficiency', 'N/A')}\\n\"\n",
        "        summary += f\" - Compression Ratio: {metrics.get('compression_ratio', 'N/A')}\\n\"\n",
        "        summary += f\" - Semantic Coherence: {metrics.get('semantic_coherence', 'N/A')}\\n\"\n",
        "        summary += f\" - Context Overlap: {metrics.get('context_overlap', 'N/A')}\\n\"\n",
        "        summary += f\" - Information Density: {metrics.get('information_density', 'N/A')}\\n\"\n",
        "        summary += f\" - Processing Efficiency: {metrics.get('processing_efficiency', 'N/A')}\\n\"\n",
        "        summary += f\" - Flexibility: {metrics.get('flexibility', 'N/A')}\\n\"\n",
        "\n",
        "    return summary\n"
      ],
      "metadata": {
        "id": "6ZG2DHukaIGJ"
      },
      "execution_count": null,
      "outputs": []
    },
    {
      "cell_type": "code",
      "source": [],
      "metadata": {
        "id": "imps6ACQuQOE"
      },
      "execution_count": null,
      "outputs": []
    }
  ],
  "metadata": {
    "colab": {
      "provenance": []
    },
    "kernelspec": {
      "display_name": "Python 3",
      "name": "python3"
    },
    "language_info": {
      "name": "python"
    },
    "widgets": {
      "application/vnd.jupyter.widget-state+json": {
        "655ce3a2cb474330bd5c3c9d4ea10e11": {
          "model_module": "@jupyter-widgets/controls",
          "model_name": "HBoxModel",
          "model_module_version": "1.5.0",
          "state": {
            "_dom_classes": [],
            "_model_module": "@jupyter-widgets/controls",
            "_model_module_version": "1.5.0",
            "_model_name": "HBoxModel",
            "_view_count": null,
            "_view_module": "@jupyter-widgets/controls",
            "_view_module_version": "1.5.0",
            "_view_name": "HBoxView",
            "box_style": "",
            "children": [
              "IPY_MODEL_eb5f11ef7d504dd9b3bf155aff055a1d",
              "IPY_MODEL_8186c69362e1444cb6422c4d0546ae27",
              "IPY_MODEL_6e4832a6b56e4cae91324b36d53f1911"
            ],
            "layout": "IPY_MODEL_bf4ccd05b749418a92ab3cabe96a6599"
          }
        },
        "eb5f11ef7d504dd9b3bf155aff055a1d": {
          "model_module": "@jupyter-widgets/controls",
          "model_name": "HTMLModel",
          "model_module_version": "1.5.0",
          "state": {
            "_dom_classes": [],
            "_model_module": "@jupyter-widgets/controls",
            "_model_module_version": "1.5.0",
            "_model_name": "HTMLModel",
            "_view_count": null,
            "_view_module": "@jupyter-widgets/controls",
            "_view_module_version": "1.5.0",
            "_view_name": "HTMLView",
            "description": "",
            "description_tooltip": null,
            "layout": "IPY_MODEL_6a6c0b61269549dba0229f97b1b777f3",
            "placeholder": "​",
            "style": "IPY_MODEL_337bb951192b4270b6f631b3712de5d7",
            "value": "README.md: 100%"
          }
        },
        "8186c69362e1444cb6422c4d0546ae27": {
          "model_module": "@jupyter-widgets/controls",
          "model_name": "FloatProgressModel",
          "model_module_version": "1.5.0",
          "state": {
            "_dom_classes": [],
            "_model_module": "@jupyter-widgets/controls",
            "_model_module_version": "1.5.0",
            "_model_name": "FloatProgressModel",
            "_view_count": null,
            "_view_module": "@jupyter-widgets/controls",
            "_view_module_version": "1.5.0",
            "_view_name": "ProgressView",
            "bar_style": "success",
            "description": "",
            "description_tooltip": null,
            "layout": "IPY_MODEL_9838619476e440bea497e73a39c4e171",
            "max": 3713,
            "min": 0,
            "orientation": "horizontal",
            "style": "IPY_MODEL_3129ec93d6c0443fa850f78fe3231c11",
            "value": 3713
          }
        },
        "6e4832a6b56e4cae91324b36d53f1911": {
          "model_module": "@jupyter-widgets/controls",
          "model_name": "HTMLModel",
          "model_module_version": "1.5.0",
          "state": {
            "_dom_classes": [],
            "_model_module": "@jupyter-widgets/controls",
            "_model_module_version": "1.5.0",
            "_model_name": "HTMLModel",
            "_view_count": null,
            "_view_module": "@jupyter-widgets/controls",
            "_view_module_version": "1.5.0",
            "_view_name": "HTMLView",
            "description": "",
            "description_tooltip": null,
            "layout": "IPY_MODEL_881896ff71c34fec998a084b856a401c",
            "placeholder": "​",
            "style": "IPY_MODEL_8fb623ce13714ad6b0b0db1b554359d0",
            "value": " 3.71k/3.71k [00:00&lt;00:00, 165kB/s]"
          }
        },
        "bf4ccd05b749418a92ab3cabe96a6599": {
          "model_module": "@jupyter-widgets/base",
          "model_name": "LayoutModel",
          "model_module_version": "1.2.0",
          "state": {
            "_model_module": "@jupyter-widgets/base",
            "_model_module_version": "1.2.0",
            "_model_name": "LayoutModel",
            "_view_count": null,
            "_view_module": "@jupyter-widgets/base",
            "_view_module_version": "1.2.0",
            "_view_name": "LayoutView",
            "align_content": null,
            "align_items": null,
            "align_self": null,
            "border": null,
            "bottom": null,
            "display": null,
            "flex": null,
            "flex_flow": null,
            "grid_area": null,
            "grid_auto_columns": null,
            "grid_auto_flow": null,
            "grid_auto_rows": null,
            "grid_column": null,
            "grid_gap": null,
            "grid_row": null,
            "grid_template_areas": null,
            "grid_template_columns": null,
            "grid_template_rows": null,
            "height": null,
            "justify_content": null,
            "justify_items": null,
            "left": null,
            "margin": null,
            "max_height": null,
            "max_width": null,
            "min_height": null,
            "min_width": null,
            "object_fit": null,
            "object_position": null,
            "order": null,
            "overflow": null,
            "overflow_x": null,
            "overflow_y": null,
            "padding": null,
            "right": null,
            "top": null,
            "visibility": null,
            "width": null
          }
        },
        "6a6c0b61269549dba0229f97b1b777f3": {
          "model_module": "@jupyter-widgets/base",
          "model_name": "LayoutModel",
          "model_module_version": "1.2.0",
          "state": {
            "_model_module": "@jupyter-widgets/base",
            "_model_module_version": "1.2.0",
            "_model_name": "LayoutModel",
            "_view_count": null,
            "_view_module": "@jupyter-widgets/base",
            "_view_module_version": "1.2.0",
            "_view_name": "LayoutView",
            "align_content": null,
            "align_items": null,
            "align_self": null,
            "border": null,
            "bottom": null,
            "display": null,
            "flex": null,
            "flex_flow": null,
            "grid_area": null,
            "grid_auto_columns": null,
            "grid_auto_flow": null,
            "grid_auto_rows": null,
            "grid_column": null,
            "grid_gap": null,
            "grid_row": null,
            "grid_template_areas": null,
            "grid_template_columns": null,
            "grid_template_rows": null,
            "height": null,
            "justify_content": null,
            "justify_items": null,
            "left": null,
            "margin": null,
            "max_height": null,
            "max_width": null,
            "min_height": null,
            "min_width": null,
            "object_fit": null,
            "object_position": null,
            "order": null,
            "overflow": null,
            "overflow_x": null,
            "overflow_y": null,
            "padding": null,
            "right": null,
            "top": null,
            "visibility": null,
            "width": null
          }
        },
        "337bb951192b4270b6f631b3712de5d7": {
          "model_module": "@jupyter-widgets/controls",
          "model_name": "DescriptionStyleModel",
          "model_module_version": "1.5.0",
          "state": {
            "_model_module": "@jupyter-widgets/controls",
            "_model_module_version": "1.5.0",
            "_model_name": "DescriptionStyleModel",
            "_view_count": null,
            "_view_module": "@jupyter-widgets/base",
            "_view_module_version": "1.2.0",
            "_view_name": "StyleView",
            "description_width": ""
          }
        },
        "9838619476e440bea497e73a39c4e171": {
          "model_module": "@jupyter-widgets/base",
          "model_name": "LayoutModel",
          "model_module_version": "1.2.0",
          "state": {
            "_model_module": "@jupyter-widgets/base",
            "_model_module_version": "1.2.0",
            "_model_name": "LayoutModel",
            "_view_count": null,
            "_view_module": "@jupyter-widgets/base",
            "_view_module_version": "1.2.0",
            "_view_name": "LayoutView",
            "align_content": null,
            "align_items": null,
            "align_self": null,
            "border": null,
            "bottom": null,
            "display": null,
            "flex": null,
            "flex_flow": null,
            "grid_area": null,
            "grid_auto_columns": null,
            "grid_auto_flow": null,
            "grid_auto_rows": null,
            "grid_column": null,
            "grid_gap": null,
            "grid_row": null,
            "grid_template_areas": null,
            "grid_template_columns": null,
            "grid_template_rows": null,
            "height": null,
            "justify_content": null,
            "justify_items": null,
            "left": null,
            "margin": null,
            "max_height": null,
            "max_width": null,
            "min_height": null,
            "min_width": null,
            "object_fit": null,
            "object_position": null,
            "order": null,
            "overflow": null,
            "overflow_x": null,
            "overflow_y": null,
            "padding": null,
            "right": null,
            "top": null,
            "visibility": null,
            "width": null
          }
        },
        "3129ec93d6c0443fa850f78fe3231c11": {
          "model_module": "@jupyter-widgets/controls",
          "model_name": "ProgressStyleModel",
          "model_module_version": "1.5.0",
          "state": {
            "_model_module": "@jupyter-widgets/controls",
            "_model_module_version": "1.5.0",
            "_model_name": "ProgressStyleModel",
            "_view_count": null,
            "_view_module": "@jupyter-widgets/base",
            "_view_module_version": "1.2.0",
            "_view_name": "StyleView",
            "bar_color": null,
            "description_width": ""
          }
        },
        "881896ff71c34fec998a084b856a401c": {
          "model_module": "@jupyter-widgets/base",
          "model_name": "LayoutModel",
          "model_module_version": "1.2.0",
          "state": {
            "_model_module": "@jupyter-widgets/base",
            "_model_module_version": "1.2.0",
            "_model_name": "LayoutModel",
            "_view_count": null,
            "_view_module": "@jupyter-widgets/base",
            "_view_module_version": "1.2.0",
            "_view_name": "LayoutView",
            "align_content": null,
            "align_items": null,
            "align_self": null,
            "border": null,
            "bottom": null,
            "display": null,
            "flex": null,
            "flex_flow": null,
            "grid_area": null,
            "grid_auto_columns": null,
            "grid_auto_flow": null,
            "grid_auto_rows": null,
            "grid_column": null,
            "grid_gap": null,
            "grid_row": null,
            "grid_template_areas": null,
            "grid_template_columns": null,
            "grid_template_rows": null,
            "height": null,
            "justify_content": null,
            "justify_items": null,
            "left": null,
            "margin": null,
            "max_height": null,
            "max_width": null,
            "min_height": null,
            "min_width": null,
            "object_fit": null,
            "object_position": null,
            "order": null,
            "overflow": null,
            "overflow_x": null,
            "overflow_y": null,
            "padding": null,
            "right": null,
            "top": null,
            "visibility": null,
            "width": null
          }
        },
        "8fb623ce13714ad6b0b0db1b554359d0": {
          "model_module": "@jupyter-widgets/controls",
          "model_name": "DescriptionStyleModel",
          "model_module_version": "1.5.0",
          "state": {
            "_model_module": "@jupyter-widgets/controls",
            "_model_module_version": "1.5.0",
            "_model_name": "DescriptionStyleModel",
            "_view_count": null,
            "_view_module": "@jupyter-widgets/base",
            "_view_module_version": "1.2.0",
            "_view_name": "StyleView",
            "description_width": ""
          }
        },
        "7f9f85537c3c43a5b841bdf6b204cbc4": {
          "model_module": "@jupyter-widgets/controls",
          "model_name": "HBoxModel",
          "model_module_version": "1.5.0",
          "state": {
            "_dom_classes": [],
            "_model_module": "@jupyter-widgets/controls",
            "_model_module_version": "1.5.0",
            "_model_name": "HBoxModel",
            "_view_count": null,
            "_view_module": "@jupyter-widgets/controls",
            "_view_module_version": "1.5.0",
            "_view_name": "HBoxView",
            "box_style": "",
            "children": [
              "IPY_MODEL_9d03743c22684eb299043eaa7c495684",
              "IPY_MODEL_fa29fd2ed8094a58a58825a4027cc893",
              "IPY_MODEL_8180964adb8a43f8bd1734d79487e2f0"
            ],
            "layout": "IPY_MODEL_0b8ae4eb6145418d873c96b052200255"
          }
        },
        "9d03743c22684eb299043eaa7c495684": {
          "model_module": "@jupyter-widgets/controls",
          "model_name": "HTMLModel",
          "model_module_version": "1.5.0",
          "state": {
            "_dom_classes": [],
            "_model_module": "@jupyter-widgets/controls",
            "_model_module_version": "1.5.0",
            "_model_name": "HTMLModel",
            "_view_count": null,
            "_view_module": "@jupyter-widgets/controls",
            "_view_module_version": "1.5.0",
            "_view_name": "HTMLView",
            "description": "",
            "description_tooltip": null,
            "layout": "IPY_MODEL_30b60ceb55d24795a8b8751b8d3bf494",
            "placeholder": "​",
            "style": "IPY_MODEL_c75def0003ea4418955cdbf0fd9615cd",
            "value": "train-00000-of-00001.parquet: 100%"
          }
        },
        "fa29fd2ed8094a58a58825a4027cc893": {
          "model_module": "@jupyter-widgets/controls",
          "model_name": "FloatProgressModel",
          "model_module_version": "1.5.0",
          "state": {
            "_dom_classes": [],
            "_model_module": "@jupyter-widgets/controls",
            "_model_module_version": "1.5.0",
            "_model_name": "FloatProgressModel",
            "_view_count": null,
            "_view_module": "@jupyter-widgets/controls",
            "_view_module_version": "1.5.0",
            "_view_name": "ProgressView",
            "bar_style": "success",
            "description": "",
            "description_tooltip": null,
            "layout": "IPY_MODEL_3b85f6b26b0441a389e51a7b4ef8fd6a",
            "max": 162211841,
            "min": 0,
            "orientation": "horizontal",
            "style": "IPY_MODEL_9d7ddc83ded74a9dbf6a40c634a440e8",
            "value": 162211841
          }
        },
        "8180964adb8a43f8bd1734d79487e2f0": {
          "model_module": "@jupyter-widgets/controls",
          "model_name": "HTMLModel",
          "model_module_version": "1.5.0",
          "state": {
            "_dom_classes": [],
            "_model_module": "@jupyter-widgets/controls",
            "_model_module_version": "1.5.0",
            "_model_name": "HTMLModel",
            "_view_count": null,
            "_view_module": "@jupyter-widgets/controls",
            "_view_module_version": "1.5.0",
            "_view_name": "HTMLView",
            "description": "",
            "description_tooltip": null,
            "layout": "IPY_MODEL_46971514a0834853815af304f74804ed",
            "placeholder": "​",
            "style": "IPY_MODEL_8e56d78ec802457c8c097ea786e6f644",
            "value": " 162M/162M [00:04&lt;00:00, 42.3MB/s]"
          }
        },
        "0b8ae4eb6145418d873c96b052200255": {
          "model_module": "@jupyter-widgets/base",
          "model_name": "LayoutModel",
          "model_module_version": "1.2.0",
          "state": {
            "_model_module": "@jupyter-widgets/base",
            "_model_module_version": "1.2.0",
            "_model_name": "LayoutModel",
            "_view_count": null,
            "_view_module": "@jupyter-widgets/base",
            "_view_module_version": "1.2.0",
            "_view_name": "LayoutView",
            "align_content": null,
            "align_items": null,
            "align_self": null,
            "border": null,
            "bottom": null,
            "display": null,
            "flex": null,
            "flex_flow": null,
            "grid_area": null,
            "grid_auto_columns": null,
            "grid_auto_flow": null,
            "grid_auto_rows": null,
            "grid_column": null,
            "grid_gap": null,
            "grid_row": null,
            "grid_template_areas": null,
            "grid_template_columns": null,
            "grid_template_rows": null,
            "height": null,
            "justify_content": null,
            "justify_items": null,
            "left": null,
            "margin": null,
            "max_height": null,
            "max_width": null,
            "min_height": null,
            "min_width": null,
            "object_fit": null,
            "object_position": null,
            "order": null,
            "overflow": null,
            "overflow_x": null,
            "overflow_y": null,
            "padding": null,
            "right": null,
            "top": null,
            "visibility": null,
            "width": null
          }
        },
        "30b60ceb55d24795a8b8751b8d3bf494": {
          "model_module": "@jupyter-widgets/base",
          "model_name": "LayoutModel",
          "model_module_version": "1.2.0",
          "state": {
            "_model_module": "@jupyter-widgets/base",
            "_model_module_version": "1.2.0",
            "_model_name": "LayoutModel",
            "_view_count": null,
            "_view_module": "@jupyter-widgets/base",
            "_view_module_version": "1.2.0",
            "_view_name": "LayoutView",
            "align_content": null,
            "align_items": null,
            "align_self": null,
            "border": null,
            "bottom": null,
            "display": null,
            "flex": null,
            "flex_flow": null,
            "grid_area": null,
            "grid_auto_columns": null,
            "grid_auto_flow": null,
            "grid_auto_rows": null,
            "grid_column": null,
            "grid_gap": null,
            "grid_row": null,
            "grid_template_areas": null,
            "grid_template_columns": null,
            "grid_template_rows": null,
            "height": null,
            "justify_content": null,
            "justify_items": null,
            "left": null,
            "margin": null,
            "max_height": null,
            "max_width": null,
            "min_height": null,
            "min_width": null,
            "object_fit": null,
            "object_position": null,
            "order": null,
            "overflow": null,
            "overflow_x": null,
            "overflow_y": null,
            "padding": null,
            "right": null,
            "top": null,
            "visibility": null,
            "width": null
          }
        },
        "c75def0003ea4418955cdbf0fd9615cd": {
          "model_module": "@jupyter-widgets/controls",
          "model_name": "DescriptionStyleModel",
          "model_module_version": "1.5.0",
          "state": {
            "_model_module": "@jupyter-widgets/controls",
            "_model_module_version": "1.5.0",
            "_model_name": "DescriptionStyleModel",
            "_view_count": null,
            "_view_module": "@jupyter-widgets/base",
            "_view_module_version": "1.2.0",
            "_view_name": "StyleView",
            "description_width": ""
          }
        },
        "3b85f6b26b0441a389e51a7b4ef8fd6a": {
          "model_module": "@jupyter-widgets/base",
          "model_name": "LayoutModel",
          "model_module_version": "1.2.0",
          "state": {
            "_model_module": "@jupyter-widgets/base",
            "_model_module_version": "1.2.0",
            "_model_name": "LayoutModel",
            "_view_count": null,
            "_view_module": "@jupyter-widgets/base",
            "_view_module_version": "1.2.0",
            "_view_name": "LayoutView",
            "align_content": null,
            "align_items": null,
            "align_self": null,
            "border": null,
            "bottom": null,
            "display": null,
            "flex": null,
            "flex_flow": null,
            "grid_area": null,
            "grid_auto_columns": null,
            "grid_auto_flow": null,
            "grid_auto_rows": null,
            "grid_column": null,
            "grid_gap": null,
            "grid_row": null,
            "grid_template_areas": null,
            "grid_template_columns": null,
            "grid_template_rows": null,
            "height": null,
            "justify_content": null,
            "justify_items": null,
            "left": null,
            "margin": null,
            "max_height": null,
            "max_width": null,
            "min_height": null,
            "min_width": null,
            "object_fit": null,
            "object_position": null,
            "order": null,
            "overflow": null,
            "overflow_x": null,
            "overflow_y": null,
            "padding": null,
            "right": null,
            "top": null,
            "visibility": null,
            "width": null
          }
        },
        "9d7ddc83ded74a9dbf6a40c634a440e8": {
          "model_module": "@jupyter-widgets/controls",
          "model_name": "ProgressStyleModel",
          "model_module_version": "1.5.0",
          "state": {
            "_model_module": "@jupyter-widgets/controls",
            "_model_module_version": "1.5.0",
            "_model_name": "ProgressStyleModel",
            "_view_count": null,
            "_view_module": "@jupyter-widgets/base",
            "_view_module_version": "1.2.0",
            "_view_name": "StyleView",
            "bar_color": null,
            "description_width": ""
          }
        },
        "46971514a0834853815af304f74804ed": {
          "model_module": "@jupyter-widgets/base",
          "model_name": "LayoutModel",
          "model_module_version": "1.2.0",
          "state": {
            "_model_module": "@jupyter-widgets/base",
            "_model_module_version": "1.2.0",
            "_model_name": "LayoutModel",
            "_view_count": null,
            "_view_module": "@jupyter-widgets/base",
            "_view_module_version": "1.2.0",
            "_view_name": "LayoutView",
            "align_content": null,
            "align_items": null,
            "align_self": null,
            "border": null,
            "bottom": null,
            "display": null,
            "flex": null,
            "flex_flow": null,
            "grid_area": null,
            "grid_auto_columns": null,
            "grid_auto_flow": null,
            "grid_auto_rows": null,
            "grid_column": null,
            "grid_gap": null,
            "grid_row": null,
            "grid_template_areas": null,
            "grid_template_columns": null,
            "grid_template_rows": null,
            "height": null,
            "justify_content": null,
            "justify_items": null,
            "left": null,
            "margin": null,
            "max_height": null,
            "max_width": null,
            "min_height": null,
            "min_width": null,
            "object_fit": null,
            "object_position": null,
            "order": null,
            "overflow": null,
            "overflow_x": null,
            "overflow_y": null,
            "padding": null,
            "right": null,
            "top": null,
            "visibility": null,
            "width": null
          }
        },
        "8e56d78ec802457c8c097ea786e6f644": {
          "model_module": "@jupyter-widgets/controls",
          "model_name": "DescriptionStyleModel",
          "model_module_version": "1.5.0",
          "state": {
            "_model_module": "@jupyter-widgets/controls",
            "_model_module_version": "1.5.0",
            "_model_name": "DescriptionStyleModel",
            "_view_count": null,
            "_view_module": "@jupyter-widgets/base",
            "_view_module_version": "1.2.0",
            "_view_name": "StyleView",
            "description_width": ""
          }
        },
        "ef7f2d28af934e0f9b6f53582f4a6e5d": {
          "model_module": "@jupyter-widgets/controls",
          "model_name": "HBoxModel",
          "model_module_version": "1.5.0",
          "state": {
            "_dom_classes": [],
            "_model_module": "@jupyter-widgets/controls",
            "_model_module_version": "1.5.0",
            "_model_name": "HBoxModel",
            "_view_count": null,
            "_view_module": "@jupyter-widgets/controls",
            "_view_module_version": "1.5.0",
            "_view_name": "HBoxView",
            "box_style": "",
            "children": [
              "IPY_MODEL_11c212a6323e4eeab32d7c5fac705729",
              "IPY_MODEL_1b99e1e8fc874c96b18de1302ceee70e",
              "IPY_MODEL_197643e773fc4793b3dd728978f5efd9"
            ],
            "layout": "IPY_MODEL_5304ec19db714eb3ba8cdc2c211fefb9"
          }
        },
        "11c212a6323e4eeab32d7c5fac705729": {
          "model_module": "@jupyter-widgets/controls",
          "model_name": "HTMLModel",
          "model_module_version": "1.5.0",
          "state": {
            "_dom_classes": [],
            "_model_module": "@jupyter-widgets/controls",
            "_model_module_version": "1.5.0",
            "_model_name": "HTMLModel",
            "_view_count": null,
            "_view_module": "@jupyter-widgets/controls",
            "_view_module_version": "1.5.0",
            "_view_name": "HTMLView",
            "description": "",
            "description_tooltip": null,
            "layout": "IPY_MODEL_c171f3fe17f948978c72bb2f332c80d8",
            "placeholder": "​",
            "style": "IPY_MODEL_d8bbc9ad1faa4aa4af4bedd48ff70a84",
            "value": "test-00000-of-00001.parquet: 100%"
          }
        },
        "1b99e1e8fc874c96b18de1302ceee70e": {
          "model_module": "@jupyter-widgets/controls",
          "model_name": "FloatProgressModel",
          "model_module_version": "1.5.0",
          "state": {
            "_dom_classes": [],
            "_model_module": "@jupyter-widgets/controls",
            "_model_module_version": "1.5.0",
            "_model_name": "FloatProgressModel",
            "_view_count": null,
            "_view_module": "@jupyter-widgets/controls",
            "_view_module_version": "1.5.0",
            "_view_name": "ProgressView",
            "bar_style": "success",
            "description": "",
            "description_tooltip": null,
            "layout": "IPY_MODEL_5d3fae5b7b174dee8912ee909e6ec082",
            "max": 40483578,
            "min": 0,
            "orientation": "horizontal",
            "style": "IPY_MODEL_8a69e00ff68a4d72b2fdc930307d7a40",
            "value": 40483578
          }
        },
        "197643e773fc4793b3dd728978f5efd9": {
          "model_module": "@jupyter-widgets/controls",
          "model_name": "HTMLModel",
          "model_module_version": "1.5.0",
          "state": {
            "_dom_classes": [],
            "_model_module": "@jupyter-widgets/controls",
            "_model_module_version": "1.5.0",
            "_model_name": "HTMLModel",
            "_view_count": null,
            "_view_module": "@jupyter-widgets/controls",
            "_view_module_version": "1.5.0",
            "_view_name": "HTMLView",
            "description": "",
            "description_tooltip": null,
            "layout": "IPY_MODEL_4fbd5c00c0ae4c31ba8955a88b0d6e62",
            "placeholder": "​",
            "style": "IPY_MODEL_e8c6680e22e6418593254947087a44a6",
            "value": " 40.5M/40.5M [00:01&lt;00:00, 43.5MB/s]"
          }
        },
        "5304ec19db714eb3ba8cdc2c211fefb9": {
          "model_module": "@jupyter-widgets/base",
          "model_name": "LayoutModel",
          "model_module_version": "1.2.0",
          "state": {
            "_model_module": "@jupyter-widgets/base",
            "_model_module_version": "1.2.0",
            "_model_name": "LayoutModel",
            "_view_count": null,
            "_view_module": "@jupyter-widgets/base",
            "_view_module_version": "1.2.0",
            "_view_name": "LayoutView",
            "align_content": null,
            "align_items": null,
            "align_self": null,
            "border": null,
            "bottom": null,
            "display": null,
            "flex": null,
            "flex_flow": null,
            "grid_area": null,
            "grid_auto_columns": null,
            "grid_auto_flow": null,
            "grid_auto_rows": null,
            "grid_column": null,
            "grid_gap": null,
            "grid_row": null,
            "grid_template_areas": null,
            "grid_template_columns": null,
            "grid_template_rows": null,
            "height": null,
            "justify_content": null,
            "justify_items": null,
            "left": null,
            "margin": null,
            "max_height": null,
            "max_width": null,
            "min_height": null,
            "min_width": null,
            "object_fit": null,
            "object_position": null,
            "order": null,
            "overflow": null,
            "overflow_x": null,
            "overflow_y": null,
            "padding": null,
            "right": null,
            "top": null,
            "visibility": null,
            "width": null
          }
        },
        "c171f3fe17f948978c72bb2f332c80d8": {
          "model_module": "@jupyter-widgets/base",
          "model_name": "LayoutModel",
          "model_module_version": "1.2.0",
          "state": {
            "_model_module": "@jupyter-widgets/base",
            "_model_module_version": "1.2.0",
            "_model_name": "LayoutModel",
            "_view_count": null,
            "_view_module": "@jupyter-widgets/base",
            "_view_module_version": "1.2.0",
            "_view_name": "LayoutView",
            "align_content": null,
            "align_items": null,
            "align_self": null,
            "border": null,
            "bottom": null,
            "display": null,
            "flex": null,
            "flex_flow": null,
            "grid_area": null,
            "grid_auto_columns": null,
            "grid_auto_flow": null,
            "grid_auto_rows": null,
            "grid_column": null,
            "grid_gap": null,
            "grid_row": null,
            "grid_template_areas": null,
            "grid_template_columns": null,
            "grid_template_rows": null,
            "height": null,
            "justify_content": null,
            "justify_items": null,
            "left": null,
            "margin": null,
            "max_height": null,
            "max_width": null,
            "min_height": null,
            "min_width": null,
            "object_fit": null,
            "object_position": null,
            "order": null,
            "overflow": null,
            "overflow_x": null,
            "overflow_y": null,
            "padding": null,
            "right": null,
            "top": null,
            "visibility": null,
            "width": null
          }
        },
        "d8bbc9ad1faa4aa4af4bedd48ff70a84": {
          "model_module": "@jupyter-widgets/controls",
          "model_name": "DescriptionStyleModel",
          "model_module_version": "1.5.0",
          "state": {
            "_model_module": "@jupyter-widgets/controls",
            "_model_module_version": "1.5.0",
            "_model_name": "DescriptionStyleModel",
            "_view_count": null,
            "_view_module": "@jupyter-widgets/base",
            "_view_module_version": "1.2.0",
            "_view_name": "StyleView",
            "description_width": ""
          }
        },
        "5d3fae5b7b174dee8912ee909e6ec082": {
          "model_module": "@jupyter-widgets/base",
          "model_name": "LayoutModel",
          "model_module_version": "1.2.0",
          "state": {
            "_model_module": "@jupyter-widgets/base",
            "_model_module_version": "1.2.0",
            "_model_name": "LayoutModel",
            "_view_count": null,
            "_view_module": "@jupyter-widgets/base",
            "_view_module_version": "1.2.0",
            "_view_name": "LayoutView",
            "align_content": null,
            "align_items": null,
            "align_self": null,
            "border": null,
            "bottom": null,
            "display": null,
            "flex": null,
            "flex_flow": null,
            "grid_area": null,
            "grid_auto_columns": null,
            "grid_auto_flow": null,
            "grid_auto_rows": null,
            "grid_column": null,
            "grid_gap": null,
            "grid_row": null,
            "grid_template_areas": null,
            "grid_template_columns": null,
            "grid_template_rows": null,
            "height": null,
            "justify_content": null,
            "justify_items": null,
            "left": null,
            "margin": null,
            "max_height": null,
            "max_width": null,
            "min_height": null,
            "min_width": null,
            "object_fit": null,
            "object_position": null,
            "order": null,
            "overflow": null,
            "overflow_x": null,
            "overflow_y": null,
            "padding": null,
            "right": null,
            "top": null,
            "visibility": null,
            "width": null
          }
        },
        "8a69e00ff68a4d72b2fdc930307d7a40": {
          "model_module": "@jupyter-widgets/controls",
          "model_name": "ProgressStyleModel",
          "model_module_version": "1.5.0",
          "state": {
            "_model_module": "@jupyter-widgets/controls",
            "_model_module_version": "1.5.0",
            "_model_name": "ProgressStyleModel",
            "_view_count": null,
            "_view_module": "@jupyter-widgets/base",
            "_view_module_version": "1.2.0",
            "_view_name": "StyleView",
            "bar_color": null,
            "description_width": ""
          }
        },
        "4fbd5c00c0ae4c31ba8955a88b0d6e62": {
          "model_module": "@jupyter-widgets/base",
          "model_name": "LayoutModel",
          "model_module_version": "1.2.0",
          "state": {
            "_model_module": "@jupyter-widgets/base",
            "_model_module_version": "1.2.0",
            "_model_name": "LayoutModel",
            "_view_count": null,
            "_view_module": "@jupyter-widgets/base",
            "_view_module_version": "1.2.0",
            "_view_name": "LayoutView",
            "align_content": null,
            "align_items": null,
            "align_self": null,
            "border": null,
            "bottom": null,
            "display": null,
            "flex": null,
            "flex_flow": null,
            "grid_area": null,
            "grid_auto_columns": null,
            "grid_auto_flow": null,
            "grid_auto_rows": null,
            "grid_column": null,
            "grid_gap": null,
            "grid_row": null,
            "grid_template_areas": null,
            "grid_template_columns": null,
            "grid_template_rows": null,
            "height": null,
            "justify_content": null,
            "justify_items": null,
            "left": null,
            "margin": null,
            "max_height": null,
            "max_width": null,
            "min_height": null,
            "min_width": null,
            "object_fit": null,
            "object_position": null,
            "order": null,
            "overflow": null,
            "overflow_x": null,
            "overflow_y": null,
            "padding": null,
            "right": null,
            "top": null,
            "visibility": null,
            "width": null
          }
        },
        "e8c6680e22e6418593254947087a44a6": {
          "model_module": "@jupyter-widgets/controls",
          "model_name": "DescriptionStyleModel",
          "model_module_version": "1.5.0",
          "state": {
            "_model_module": "@jupyter-widgets/controls",
            "_model_module_version": "1.5.0",
            "_model_name": "DescriptionStyleModel",
            "_view_count": null,
            "_view_module": "@jupyter-widgets/base",
            "_view_module_version": "1.2.0",
            "_view_name": "StyleView",
            "description_width": ""
          }
        },
        "de56c2b45b4c45e1811c26fce656e205": {
          "model_module": "@jupyter-widgets/controls",
          "model_name": "HBoxModel",
          "model_module_version": "1.5.0",
          "state": {
            "_dom_classes": [],
            "_model_module": "@jupyter-widgets/controls",
            "_model_module_version": "1.5.0",
            "_model_name": "HBoxModel",
            "_view_count": null,
            "_view_module": "@jupyter-widgets/controls",
            "_view_module_version": "1.5.0",
            "_view_name": "HBoxView",
            "box_style": "",
            "children": [
              "IPY_MODEL_17b0661dad3b46b2991a807bb5da60ab",
              "IPY_MODEL_bff71d63e1f1411bb855139828f3ce23",
              "IPY_MODEL_fe9f534847a14ff2b42ec3b4444b2f7f"
            ],
            "layout": "IPY_MODEL_61bcf74fe36040e1aab9c1cdb7631cab"
          }
        },
        "17b0661dad3b46b2991a807bb5da60ab": {
          "model_module": "@jupyter-widgets/controls",
          "model_name": "HTMLModel",
          "model_module_version": "1.5.0",
          "state": {
            "_dom_classes": [],
            "_model_module": "@jupyter-widgets/controls",
            "_model_module_version": "1.5.0",
            "_model_name": "HTMLModel",
            "_view_count": null,
            "_view_module": "@jupyter-widgets/controls",
            "_view_module_version": "1.5.0",
            "_view_name": "HTMLView",
            "description": "",
            "description_tooltip": null,
            "layout": "IPY_MODEL_3d3ba5fb58134c208d51d2738f474223",
            "placeholder": "​",
            "style": "IPY_MODEL_2268d88b1ea1406cba761d8190517b45",
            "value": "Generating train split: 100%"
          }
        },
        "bff71d63e1f1411bb855139828f3ce23": {
          "model_module": "@jupyter-widgets/controls",
          "model_name": "FloatProgressModel",
          "model_module_version": "1.5.0",
          "state": {
            "_dom_classes": [],
            "_model_module": "@jupyter-widgets/controls",
            "_model_module_version": "1.5.0",
            "_model_name": "FloatProgressModel",
            "_view_count": null,
            "_view_module": "@jupyter-widgets/controls",
            "_view_module_version": "1.5.0",
            "_view_name": "ProgressView",
            "bar_style": "success",
            "description": "",
            "description_tooltip": null,
            "layout": "IPY_MODEL_21ef2819f4a845558ad57ca3bf7126f3",
            "max": 45995,
            "min": 0,
            "orientation": "horizontal",
            "style": "IPY_MODEL_8e866cc004084ad59905858ffc724cf0",
            "value": 45995
          }
        },
        "fe9f534847a14ff2b42ec3b4444b2f7f": {
          "model_module": "@jupyter-widgets/controls",
          "model_name": "HTMLModel",
          "model_module_version": "1.5.0",
          "state": {
            "_dom_classes": [],
            "_model_module": "@jupyter-widgets/controls",
            "_model_module_version": "1.5.0",
            "_model_name": "HTMLModel",
            "_view_count": null,
            "_view_module": "@jupyter-widgets/controls",
            "_view_module_version": "1.5.0",
            "_view_name": "HTMLView",
            "description": "",
            "description_tooltip": null,
            "layout": "IPY_MODEL_f91c288382dd4f3b8f6905db25afb0b1",
            "placeholder": "​",
            "style": "IPY_MODEL_187631e5e04a4fcfb6287fafbab96cd0",
            "value": " 45995/45995 [00:03&lt;00:00, 13800.64 examples/s]"
          }
        },
        "61bcf74fe36040e1aab9c1cdb7631cab": {
          "model_module": "@jupyter-widgets/base",
          "model_name": "LayoutModel",
          "model_module_version": "1.2.0",
          "state": {
            "_model_module": "@jupyter-widgets/base",
            "_model_module_version": "1.2.0",
            "_model_name": "LayoutModel",
            "_view_count": null,
            "_view_module": "@jupyter-widgets/base",
            "_view_module_version": "1.2.0",
            "_view_name": "LayoutView",
            "align_content": null,
            "align_items": null,
            "align_self": null,
            "border": null,
            "bottom": null,
            "display": null,
            "flex": null,
            "flex_flow": null,
            "grid_area": null,
            "grid_auto_columns": null,
            "grid_auto_flow": null,
            "grid_auto_rows": null,
            "grid_column": null,
            "grid_gap": null,
            "grid_row": null,
            "grid_template_areas": null,
            "grid_template_columns": null,
            "grid_template_rows": null,
            "height": null,
            "justify_content": null,
            "justify_items": null,
            "left": null,
            "margin": null,
            "max_height": null,
            "max_width": null,
            "min_height": null,
            "min_width": null,
            "object_fit": null,
            "object_position": null,
            "order": null,
            "overflow": null,
            "overflow_x": null,
            "overflow_y": null,
            "padding": null,
            "right": null,
            "top": null,
            "visibility": null,
            "width": null
          }
        },
        "3d3ba5fb58134c208d51d2738f474223": {
          "model_module": "@jupyter-widgets/base",
          "model_name": "LayoutModel",
          "model_module_version": "1.2.0",
          "state": {
            "_model_module": "@jupyter-widgets/base",
            "_model_module_version": "1.2.0",
            "_model_name": "LayoutModel",
            "_view_count": null,
            "_view_module": "@jupyter-widgets/base",
            "_view_module_version": "1.2.0",
            "_view_name": "LayoutView",
            "align_content": null,
            "align_items": null,
            "align_self": null,
            "border": null,
            "bottom": null,
            "display": null,
            "flex": null,
            "flex_flow": null,
            "grid_area": null,
            "grid_auto_columns": null,
            "grid_auto_flow": null,
            "grid_auto_rows": null,
            "grid_column": null,
            "grid_gap": null,
            "grid_row": null,
            "grid_template_areas": null,
            "grid_template_columns": null,
            "grid_template_rows": null,
            "height": null,
            "justify_content": null,
            "justify_items": null,
            "left": null,
            "margin": null,
            "max_height": null,
            "max_width": null,
            "min_height": null,
            "min_width": null,
            "object_fit": null,
            "object_position": null,
            "order": null,
            "overflow": null,
            "overflow_x": null,
            "overflow_y": null,
            "padding": null,
            "right": null,
            "top": null,
            "visibility": null,
            "width": null
          }
        },
        "2268d88b1ea1406cba761d8190517b45": {
          "model_module": "@jupyter-widgets/controls",
          "model_name": "DescriptionStyleModel",
          "model_module_version": "1.5.0",
          "state": {
            "_model_module": "@jupyter-widgets/controls",
            "_model_module_version": "1.5.0",
            "_model_name": "DescriptionStyleModel",
            "_view_count": null,
            "_view_module": "@jupyter-widgets/base",
            "_view_module_version": "1.2.0",
            "_view_name": "StyleView",
            "description_width": ""
          }
        },
        "21ef2819f4a845558ad57ca3bf7126f3": {
          "model_module": "@jupyter-widgets/base",
          "model_name": "LayoutModel",
          "model_module_version": "1.2.0",
          "state": {
            "_model_module": "@jupyter-widgets/base",
            "_model_module_version": "1.2.0",
            "_model_name": "LayoutModel",
            "_view_count": null,
            "_view_module": "@jupyter-widgets/base",
            "_view_module_version": "1.2.0",
            "_view_name": "LayoutView",
            "align_content": null,
            "align_items": null,
            "align_self": null,
            "border": null,
            "bottom": null,
            "display": null,
            "flex": null,
            "flex_flow": null,
            "grid_area": null,
            "grid_auto_columns": null,
            "grid_auto_flow": null,
            "grid_auto_rows": null,
            "grid_column": null,
            "grid_gap": null,
            "grid_row": null,
            "grid_template_areas": null,
            "grid_template_columns": null,
            "grid_template_rows": null,
            "height": null,
            "justify_content": null,
            "justify_items": null,
            "left": null,
            "margin": null,
            "max_height": null,
            "max_width": null,
            "min_height": null,
            "min_width": null,
            "object_fit": null,
            "object_position": null,
            "order": null,
            "overflow": null,
            "overflow_x": null,
            "overflow_y": null,
            "padding": null,
            "right": null,
            "top": null,
            "visibility": null,
            "width": null
          }
        },
        "8e866cc004084ad59905858ffc724cf0": {
          "model_module": "@jupyter-widgets/controls",
          "model_name": "ProgressStyleModel",
          "model_module_version": "1.5.0",
          "state": {
            "_model_module": "@jupyter-widgets/controls",
            "_model_module_version": "1.5.0",
            "_model_name": "ProgressStyleModel",
            "_view_count": null,
            "_view_module": "@jupyter-widgets/base",
            "_view_module_version": "1.2.0",
            "_view_name": "StyleView",
            "bar_color": null,
            "description_width": ""
          }
        },
        "f91c288382dd4f3b8f6905db25afb0b1": {
          "model_module": "@jupyter-widgets/base",
          "model_name": "LayoutModel",
          "model_module_version": "1.2.0",
          "state": {
            "_model_module": "@jupyter-widgets/base",
            "_model_module_version": "1.2.0",
            "_model_name": "LayoutModel",
            "_view_count": null,
            "_view_module": "@jupyter-widgets/base",
            "_view_module_version": "1.2.0",
            "_view_name": "LayoutView",
            "align_content": null,
            "align_items": null,
            "align_self": null,
            "border": null,
            "bottom": null,
            "display": null,
            "flex": null,
            "flex_flow": null,
            "grid_area": null,
            "grid_auto_columns": null,
            "grid_auto_flow": null,
            "grid_auto_rows": null,
            "grid_column": null,
            "grid_gap": null,
            "grid_row": null,
            "grid_template_areas": null,
            "grid_template_columns": null,
            "grid_template_rows": null,
            "height": null,
            "justify_content": null,
            "justify_items": null,
            "left": null,
            "margin": null,
            "max_height": null,
            "max_width": null,
            "min_height": null,
            "min_width": null,
            "object_fit": null,
            "object_position": null,
            "order": null,
            "overflow": null,
            "overflow_x": null,
            "overflow_y": null,
            "padding": null,
            "right": null,
            "top": null,
            "visibility": null,
            "width": null
          }
        },
        "187631e5e04a4fcfb6287fafbab96cd0": {
          "model_module": "@jupyter-widgets/controls",
          "model_name": "DescriptionStyleModel",
          "model_module_version": "1.5.0",
          "state": {
            "_model_module": "@jupyter-widgets/controls",
            "_model_module_version": "1.5.0",
            "_model_name": "DescriptionStyleModel",
            "_view_count": null,
            "_view_module": "@jupyter-widgets/base",
            "_view_module_version": "1.2.0",
            "_view_name": "StyleView",
            "description_width": ""
          }
        },
        "a5c7fac7479a46849a850cad49ecdae4": {
          "model_module": "@jupyter-widgets/controls",
          "model_name": "HBoxModel",
          "model_module_version": "1.5.0",
          "state": {
            "_dom_classes": [],
            "_model_module": "@jupyter-widgets/controls",
            "_model_module_version": "1.5.0",
            "_model_name": "HBoxModel",
            "_view_count": null,
            "_view_module": "@jupyter-widgets/controls",
            "_view_module_version": "1.5.0",
            "_view_name": "HBoxView",
            "box_style": "",
            "children": [
              "IPY_MODEL_9acd7189b10741c689be95504a47b2e4",
              "IPY_MODEL_b0bc212bbb4f45aeb537b191d3b44cb6",
              "IPY_MODEL_1edc6bbf555448d5a2d8c94bcdb7a606"
            ],
            "layout": "IPY_MODEL_96878e165d6e48b6ac71db630d8eac1c"
          }
        },
        "9acd7189b10741c689be95504a47b2e4": {
          "model_module": "@jupyter-widgets/controls",
          "model_name": "HTMLModel",
          "model_module_version": "1.5.0",
          "state": {
            "_dom_classes": [],
            "_model_module": "@jupyter-widgets/controls",
            "_model_module_version": "1.5.0",
            "_model_name": "HTMLModel",
            "_view_count": null,
            "_view_module": "@jupyter-widgets/controls",
            "_view_module_version": "1.5.0",
            "_view_name": "HTMLView",
            "description": "",
            "description_tooltip": null,
            "layout": "IPY_MODEL_ab2f70a1c8d042a7a1f85bd7340dfd09",
            "placeholder": "​",
            "style": "IPY_MODEL_978b4470e3374480b9b4417bfb01b7a5",
            "value": "Generating test split: 100%"
          }
        },
        "b0bc212bbb4f45aeb537b191d3b44cb6": {
          "model_module": "@jupyter-widgets/controls",
          "model_name": "FloatProgressModel",
          "model_module_version": "1.5.0",
          "state": {
            "_dom_classes": [],
            "_model_module": "@jupyter-widgets/controls",
            "_model_module_version": "1.5.0",
            "_model_name": "FloatProgressModel",
            "_view_count": null,
            "_view_module": "@jupyter-widgets/controls",
            "_view_module_version": "1.5.0",
            "_view_name": "ProgressView",
            "bar_style": "success",
            "description": "",
            "description_tooltip": null,
            "layout": "IPY_MODEL_5df33730bf8e4c0dac9629a6367aa754",
            "max": 11499,
            "min": 0,
            "orientation": "horizontal",
            "style": "IPY_MODEL_5fbdc841aa7f456786196aa01e165e57",
            "value": 11499
          }
        },
        "1edc6bbf555448d5a2d8c94bcdb7a606": {
          "model_module": "@jupyter-widgets/controls",
          "model_name": "HTMLModel",
          "model_module_version": "1.5.0",
          "state": {
            "_dom_classes": [],
            "_model_module": "@jupyter-widgets/controls",
            "_model_module_version": "1.5.0",
            "_model_name": "HTMLModel",
            "_view_count": null,
            "_view_module": "@jupyter-widgets/controls",
            "_view_module_version": "1.5.0",
            "_view_name": "HTMLView",
            "description": "",
            "description_tooltip": null,
            "layout": "IPY_MODEL_e90d40d1a27343b88d6d1425f5730813",
            "placeholder": "​",
            "style": "IPY_MODEL_d53da332ef4342abbee6a367e0c58c95",
            "value": " 11499/11499 [00:00&lt;00:00, 15895.33 examples/s]"
          }
        },
        "96878e165d6e48b6ac71db630d8eac1c": {
          "model_module": "@jupyter-widgets/base",
          "model_name": "LayoutModel",
          "model_module_version": "1.2.0",
          "state": {
            "_model_module": "@jupyter-widgets/base",
            "_model_module_version": "1.2.0",
            "_model_name": "LayoutModel",
            "_view_count": null,
            "_view_module": "@jupyter-widgets/base",
            "_view_module_version": "1.2.0",
            "_view_name": "LayoutView",
            "align_content": null,
            "align_items": null,
            "align_self": null,
            "border": null,
            "bottom": null,
            "display": null,
            "flex": null,
            "flex_flow": null,
            "grid_area": null,
            "grid_auto_columns": null,
            "grid_auto_flow": null,
            "grid_auto_rows": null,
            "grid_column": null,
            "grid_gap": null,
            "grid_row": null,
            "grid_template_areas": null,
            "grid_template_columns": null,
            "grid_template_rows": null,
            "height": null,
            "justify_content": null,
            "justify_items": null,
            "left": null,
            "margin": null,
            "max_height": null,
            "max_width": null,
            "min_height": null,
            "min_width": null,
            "object_fit": null,
            "object_position": null,
            "order": null,
            "overflow": null,
            "overflow_x": null,
            "overflow_y": null,
            "padding": null,
            "right": null,
            "top": null,
            "visibility": null,
            "width": null
          }
        },
        "ab2f70a1c8d042a7a1f85bd7340dfd09": {
          "model_module": "@jupyter-widgets/base",
          "model_name": "LayoutModel",
          "model_module_version": "1.2.0",
          "state": {
            "_model_module": "@jupyter-widgets/base",
            "_model_module_version": "1.2.0",
            "_model_name": "LayoutModel",
            "_view_count": null,
            "_view_module": "@jupyter-widgets/base",
            "_view_module_version": "1.2.0",
            "_view_name": "LayoutView",
            "align_content": null,
            "align_items": null,
            "align_self": null,
            "border": null,
            "bottom": null,
            "display": null,
            "flex": null,
            "flex_flow": null,
            "grid_area": null,
            "grid_auto_columns": null,
            "grid_auto_flow": null,
            "grid_auto_rows": null,
            "grid_column": null,
            "grid_gap": null,
            "grid_row": null,
            "grid_template_areas": null,
            "grid_template_columns": null,
            "grid_template_rows": null,
            "height": null,
            "justify_content": null,
            "justify_items": null,
            "left": null,
            "margin": null,
            "max_height": null,
            "max_width": null,
            "min_height": null,
            "min_width": null,
            "object_fit": null,
            "object_position": null,
            "order": null,
            "overflow": null,
            "overflow_x": null,
            "overflow_y": null,
            "padding": null,
            "right": null,
            "top": null,
            "visibility": null,
            "width": null
          }
        },
        "978b4470e3374480b9b4417bfb01b7a5": {
          "model_module": "@jupyter-widgets/controls",
          "model_name": "DescriptionStyleModel",
          "model_module_version": "1.5.0",
          "state": {
            "_model_module": "@jupyter-widgets/controls",
            "_model_module_version": "1.5.0",
            "_model_name": "DescriptionStyleModel",
            "_view_count": null,
            "_view_module": "@jupyter-widgets/base",
            "_view_module_version": "1.2.0",
            "_view_name": "StyleView",
            "description_width": ""
          }
        },
        "5df33730bf8e4c0dac9629a6367aa754": {
          "model_module": "@jupyter-widgets/base",
          "model_name": "LayoutModel",
          "model_module_version": "1.2.0",
          "state": {
            "_model_module": "@jupyter-widgets/base",
            "_model_module_version": "1.2.0",
            "_model_name": "LayoutModel",
            "_view_count": null,
            "_view_module": "@jupyter-widgets/base",
            "_view_module_version": "1.2.0",
            "_view_name": "LayoutView",
            "align_content": null,
            "align_items": null,
            "align_self": null,
            "border": null,
            "bottom": null,
            "display": null,
            "flex": null,
            "flex_flow": null,
            "grid_area": null,
            "grid_auto_columns": null,
            "grid_auto_flow": null,
            "grid_auto_rows": null,
            "grid_column": null,
            "grid_gap": null,
            "grid_row": null,
            "grid_template_areas": null,
            "grid_template_columns": null,
            "grid_template_rows": null,
            "height": null,
            "justify_content": null,
            "justify_items": null,
            "left": null,
            "margin": null,
            "max_height": null,
            "max_width": null,
            "min_height": null,
            "min_width": null,
            "object_fit": null,
            "object_position": null,
            "order": null,
            "overflow": null,
            "overflow_x": null,
            "overflow_y": null,
            "padding": null,
            "right": null,
            "top": null,
            "visibility": null,
            "width": null
          }
        },
        "5fbdc841aa7f456786196aa01e165e57": {
          "model_module": "@jupyter-widgets/controls",
          "model_name": "ProgressStyleModel",
          "model_module_version": "1.5.0",
          "state": {
            "_model_module": "@jupyter-widgets/controls",
            "_model_module_version": "1.5.0",
            "_model_name": "ProgressStyleModel",
            "_view_count": null,
            "_view_module": "@jupyter-widgets/base",
            "_view_module_version": "1.2.0",
            "_view_name": "StyleView",
            "bar_color": null,
            "description_width": ""
          }
        },
        "e90d40d1a27343b88d6d1425f5730813": {
          "model_module": "@jupyter-widgets/base",
          "model_name": "LayoutModel",
          "model_module_version": "1.2.0",
          "state": {
            "_model_module": "@jupyter-widgets/base",
            "_model_module_version": "1.2.0",
            "_model_name": "LayoutModel",
            "_view_count": null,
            "_view_module": "@jupyter-widgets/base",
            "_view_module_version": "1.2.0",
            "_view_name": "LayoutView",
            "align_content": null,
            "align_items": null,
            "align_self": null,
            "border": null,
            "bottom": null,
            "display": null,
            "flex": null,
            "flex_flow": null,
            "grid_area": null,
            "grid_auto_columns": null,
            "grid_auto_flow": null,
            "grid_auto_rows": null,
            "grid_column": null,
            "grid_gap": null,
            "grid_row": null,
            "grid_template_areas": null,
            "grid_template_columns": null,
            "grid_template_rows": null,
            "height": null,
            "justify_content": null,
            "justify_items": null,
            "left": null,
            "margin": null,
            "max_height": null,
            "max_width": null,
            "min_height": null,
            "min_width": null,
            "object_fit": null,
            "object_position": null,
            "order": null,
            "overflow": null,
            "overflow_x": null,
            "overflow_y": null,
            "padding": null,
            "right": null,
            "top": null,
            "visibility": null,
            "width": null
          }
        },
        "d53da332ef4342abbee6a367e0c58c95": {
          "model_module": "@jupyter-widgets/controls",
          "model_name": "DescriptionStyleModel",
          "model_module_version": "1.5.0",
          "state": {
            "_model_module": "@jupyter-widgets/controls",
            "_model_module_version": "1.5.0",
            "_model_name": "DescriptionStyleModel",
            "_view_count": null,
            "_view_module": "@jupyter-widgets/base",
            "_view_module_version": "1.2.0",
            "_view_name": "StyleView",
            "description_width": ""
          }
        }
      }
    }
  },
  "nbformat": 4,
  "nbformat_minor": 0
}